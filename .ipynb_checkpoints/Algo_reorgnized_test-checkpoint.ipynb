{
 "cells": [
  {
   "cell_type": "code",
   "execution_count": 385,
   "id": "3bd02f81",
   "metadata": {},
   "outputs": [],
   "source": [
    "import torch\n",
    "import numpy as np\n",
    "import torch.nn as nn\n",
    "import torch.optim as optim\n",
    "from torch_geometric.datasets import Planetoid\n",
    "from torch_geometric.utils import subgraph, k_hop_subgraph, dense_to_sparse\n",
    "from torch_geometric.nn import GCNConv\n",
    "from sklearn.metrics import accuracy_score\n",
    "import torch.nn.functional as FF"
   ]
  },
  {
   "cell_type": "code",
   "execution_count": 386,
   "id": "eb548356",
   "metadata": {},
   "outputs": [],
   "source": [
    "def load_dataset_Cora():\n",
    "    dataset=Planetoid(root='tmp/Cora', name='Cora')\n",
    "    return dataset"
   ]
  },
  {
   "cell_type": "code",
   "execution_count": 387,
   "id": "73fb4277-0b98-41b7-aff3-a9aa712431b1",
   "metadata": {},
   "outputs": [],
   "source": [
    "def load_dataset_PubMed():\n",
    "    dataset=Planetoid(root='tmp/PubMed', name='PubMed')\n",
    "    return dataset"
   ]
  },
  {
   "cell_type": "code",
   "execution_count": 388,
   "id": "8d288587",
   "metadata": {},
   "outputs": [],
   "source": [
    "class GCN_Extraction(nn.Module):\n",
    "    def __init__(self, num_features, num_classes):\n",
    "        super(GCN_Extraction,self).__init__()\n",
    "        self.conv1=GCNConv(num_features,16)\n",
    "        self.conv2=GCNConv(16, num_classes)\n",
    "        \n",
    "    def forward(self, x, edge_index):\n",
    "        x=self.conv1(x,edge_index)\n",
    "        x=torch.relu(x)\n",
    "        x=self.conv2(x,edge_index)\n",
    "        return torch.log_softmax(x, dim=1)"
   ]
  },
  {
   "cell_type": "code",
   "execution_count": 389,
   "id": "cb1ba4b4",
   "metadata": {},
   "outputs": [],
   "source": [
    "class GCN_Victim(nn.Module):\n",
    "    def __init__(self, num_features, num_classes):\n",
    "        super(GCN_Victim,self).__init__()\n",
    "        self.conv1=GCNConv(num_features,128)\n",
    "        self.conv2=GCNConv(128,64)\n",
    "        self.conv3=GCNConv(64, 16)\n",
    "        self.conv4=GCNConv(16,num_classes)\n",
    "\n",
    "    def forward(self, x, edge_index):\n",
    "        x=self.conv1(x,edge_index)\n",
    "        x=torch.relu(x)\n",
    "        x = self.conv2(x, edge_index)\n",
    "        x=torch.relu(x)\n",
    "        x=self.conv3(x,edge_index)\n",
    "        x=torch.relu(x)\n",
    "        x=self.conv4(x, edge_index)\n",
    "        return torch.log_softmax(x, dim=1)"
   ]
  },
  {
   "cell_type": "code",
   "execution_count": 390,
   "id": "45e6d58a-affb-495d-9c7b-f82a5477fc4b",
   "metadata": {},
   "outputs": [],
   "source": [
    "def train_Victim(model, data, epoches=300, lr=0.01, weight_decay=5e-4):\n",
    "    optimizer=optim.Adam(model.parameters(),lr=lr, weight_decay=weight_decay)\n",
    "    model.train()\n",
    "    \n",
    "    for epoch in range(epoches):\n",
    "        optimizer.zero_grad()\n",
    "        out=model(data.x, data.edge_index)\n",
    "        loss=FF.nll_loss(out[data.train_mask],data.y[data.train_mask])\n",
    "        loss.backward()\n",
    "        optimizer.step()\n",
    "        if epoch % 10 ==0:\n",
    "            print(f\"Epoch {epoch+10}, Loss: {loss.item():.5f}\")"
   ]
  },
  {
   "cell_type": "code",
   "execution_count": 391,
   "id": "7a685305-5155-4648-a210-4a8685239ad8",
   "metadata": {},
   "outputs": [],
   "source": [
    "def train_Extraction(model,features, adjacency_matrix, labels, epoches=400, lr=0.01, weight_decay=5e-4):\n",
    "    optimizer=optim.Adam(model.parameters(),lr=lr, weight_decay=weight_decay)\n",
    "    model.train()\n",
    "\n",
    "    patience_counter = 0\n",
    "    \n",
    "    for epoch in range(epoches):\n",
    "        optimizer.zero_grad()\n",
    "        out=model(features, adjacency_matrix)\n",
    "        loss=FF.nll_loss(out,labels)\n",
    "        loss.backward()\n",
    "        optimizer.step()\n",
    "            \n",
    "        if epoch % 10 ==0:\n",
    "            print(f\"Epoch {epoch+10}, Loss: {loss.item():.5f}\")"
   ]
  },
  {
   "cell_type": "code",
   "execution_count": 425,
   "id": "9bfc0b0b",
   "metadata": {},
   "outputs": [],
   "source": [
    "# Function to extract a 2-hop subgraph from a larger graph.\n",
    "# It samples a random node and retrieves its 2-hop neighborhood if its size is within the specified limits.\n",
    "def get_2hop_subgraph(data, min_size=10, max_size=150):\n",
    "    num_nodes=data.num_nodes\n",
    "\n",
    "    while True:\n",
    "        node_idx=torch.randint(0,num_nodes,(1,)).item()\n",
    "        \n",
    "        subset, edge_index,_,_=k_hop_subgraph(node_idx, 2, data.edge_index, relabel_nodes=True)\n",
    "\n",
    "        if min_size<=subset.size(0)<=max_size:\n",
    "            As=torch.zeros((subset.size(0),subset.size(0)))\n",
    "            As[edge_index[0],edge_index[1]]=1\n",
    "\n",
    "            Xs=data.x[subset]\n",
    "\n",
    "            # Return the adjacency matrix, features, index of the center node, the mapping relationship between the index and the node\n",
    "            return As.numpy(), Xs.numpy(), node_idx, subset"
   ]
  },
  {
   "cell_type": "code",
   "execution_count": 393,
   "id": "c8f3790e",
   "metadata": {},
   "outputs": [],
   "source": [
    "# Function to compute the prior distributions for both feature occurrence and feature count\n",
    "def get_distribution(num_classes):\n",
    "    F=[] # List to store feature distribution for each class\n",
    "    M=[] # List to store feature count distribution for each class\n",
    "    \n",
    "    for c in range(num_classes):\n",
    "        class_nodes=data.x[labels==c]\n",
    "\n",
    "        feature_counts=class_nodes.sum(dim=0).numpy()\n",
    "        feature_distribution=feature_counts/feature_counts.sum()\n",
    "        F.append(feature_distribution)\n",
    "\n",
    "        num_features_per_node=class_nodes.sum(dim=1).numpy()\n",
    "        feature_count_distribution=np.bincount(num_features_per_node.astype(int),minlength=num_features)\n",
    "        M.append(feature_count_distribution/feature_count_distribution.sum())\n",
    "        \n",
    "    return F,M"
   ]
  },
  {
   "cell_type": "code",
   "execution_count": 394,
   "id": "848164c2",
   "metadata": {},
   "outputs": [],
   "source": [
    "# Function to generate a sample graph based on input feature (Fc) and count (Mc) distributions \n",
    "def GenerateSample(Fc, Mc, As):\n",
    "    num_nodes=As.shape[0]\n",
    "    Ac=torch.ones((num_nodes,num_nodes))\n",
    "    Xc=torch.zeros(num_nodes, len(Fc))\n",
    "\n",
    "    for i in range(num_nodes):\n",
    "        m=np.random.choice(np.arange(len(Mc)),p=Mc)\n",
    "        features=np.random.choice(len(Fc),size=m,replace=False,p=Fc)\n",
    "        Xc[i,features]=1\n",
    "\n",
    "    return Ac.numpy(), Xc.numpy()"
   ]
  },
  {
   "cell_type": "code",
   "execution_count": 395,
   "id": "ea30e7b6",
   "metadata": {},
   "outputs": [],
   "source": [
    "# Function to sample subgraphs and combine them into a larger graph\n",
    "def SubgraphSamplingAlgorithm(Gs,F, M, n, C):\n",
    "    As, Xs=Gs\n",
    "    num_nodes=As.shape[0]\n",
    "    SA=[As]\n",
    "    SX=[Xs]\n",
    "    SL=[api_out_class(Xs,As)]\n",
    "\n",
    "    for i in range(n):\n",
    "        # For each class, generate and store a new sampled subgraph\n",
    "        for c in range(C):\n",
    "            Ac, Xc=GenerateSample(F[c],M[c],As)\n",
    "            SA.append(Ac)\n",
    "            SX.append(Xc)\n",
    "            SL.append(api_out_class(Xc,Ac))\n",
    "\n",
    "    AG_list=[dense_to_sparse(torch.tensor(a))[0] for a in SA]\n",
    "    XG=torch.vstack([torch.tensor(x) for x in SX])\n",
    "\n",
    "    SL=torch.tensor(SL,dtype=torch.long).view(-1)\n",
    "\n",
    "    # Filter out invalid labels (negative labels) and trim the labels to match the feature matrix size\n",
    "    valid_mask = SL >= 0\n",
    "    SL = SL[valid_mask]\n",
    "    SL = SL[:XG.shape[0]]\n",
    "\n",
    "    # Combine the edge indices of all subgraphs, adjusting the node indices to avoid overlap\n",
    "    AG_combined=torch.cat([edge_index+i*num_nodes for i, edge_index in enumerate (AG_list)], dim=1)\n",
    "\n",
    "    \n",
    "\n",
    "    return XG, AG_combined, SL"
   ]
  },
  {
   "cell_type": "code",
   "execution_count": 396,
   "id": "5cbcadb8",
   "metadata": {},
   "outputs": [],
   "source": [
    "def api_out_class(features, adjacency_matrix):\n",
    "    features_tensor=torch.tensor(features,dtype=torch.float)\n",
    "    adjacency_tensor=torch.tensor(adjacency_matrix,dtype=torch.long)\n",
    "\n",
    "    if adjacency_tensor.ndim==2 and adjacency_tensor.shape[0]==adjacency_tensor.shape[1]:\n",
    "        adjacency_tensor=torch.nonzero(adjacency_tensor, as_tuple=False).t()\n",
    "\n",
    "    with torch.no_grad():\n",
    "        logits=f(features_tensor, adjacency_tensor)\n",
    "        predictions = torch.argmax(logits, dim=1)\n",
    "\n",
    "    \n",
    "    return predictions.numpy()"
   ]
  },
  {
   "cell_type": "code",
   "execution_count": 397,
   "id": "b614d781",
   "metadata": {},
   "outputs": [],
   "source": [
    "def api_out_vector(features, adjacency_matrix):\n",
    "    features_tensor=torch.tensor(features,dtype=torch.float)\n",
    "    adjacency_tensor=torch.tensor(adjacency_matrix,dtype=torch.long)\n",
    "\n",
    "    if adjacency_tensor.ndim==2 and adjacency_tensor.shape[0]==adjacency_tensor.shape[1]:\n",
    "        adjacency_tensor=torch.nonzero(adjacency_tensor, as_tuple=False).t()\n",
    "        \n",
    "    with torch.no_grad():\n",
    "        logits=f(features_tensor, adjacency_tensor)\n",
    "\n",
    "    return logits.numpy()"
   ]
  },
  {
   "cell_type": "code",
   "execution_count": 398,
   "id": "2dce9fa5-45e3-465b-bd18-186cd3768b65",
   "metadata": {},
   "outputs": [],
   "source": [
    "def api(model, data, mask):\n",
    "    model.eval()\n",
    "    out=model(data.x, data.edge_index)\n",
    "    pred=out[mask].argmax(dim=1)\n",
    "\n",
    "    return pred"
   ]
  },
  {
   "cell_type": "code",
   "execution_count": 399,
   "id": "684c7fc4-39e8-4716-8ab3-0a11a86fefdd",
   "metadata": {},
   "outputs": [],
   "source": [
    "def eval(victim_model, extracted_model,data, mask):\n",
    "    original_preds_labels=api(victim_model,data,mask)\n",
    "    extracted_preds_labels=api(extracted_model,data,mask)\n",
    "    score=accuracy_score(original_preds_labels, extracted_preds_labels)\n",
    "\n",
    "    return score"
   ]
  },
  {
   "cell_type": "code",
   "execution_count": 400,
   "id": "173373ed-11fc-4885-b13c-b4a751b0b48d",
   "metadata": {},
   "outputs": [],
   "source": [
    "def get_f(victim_model,extraction_model,data,mask,times):\n",
    "    list_out=[]\n",
    "    for i in range(times):\n",
    "        pred=eval(victim_model,extraction_model,data,mask)\n",
    "        list_out.append(pred)\n",
    "    \n",
    "    return sum(list_out)/len(list_out)"
   ]
  },
  {
   "cell_type": "code",
   "execution_count": 401,
   "id": "ce8100c9",
   "metadata": {},
   "outputs": [],
   "source": [
    "def find_center_node_in_subgraph(center_global_idx, node_mapping):\n",
    "    center_subgraph_idx = node_mapping.tolist().index(center_global_idx)\n",
    "    return center_subgraph_idx"
   ]
  },
  {
   "cell_type": "code",
   "execution_count": 402,
   "id": "08190b49",
   "metadata": {},
   "outputs": [],
   "source": [
    "def approximate_nodes(Gc, api_out_vector, F, M, C, rho):\n",
    "    A,X=Gc\n",
    "    L=api_out_vector(X, A)\n",
    "    center_idx=find_center_node_in_subgraph(center_node,node_mapping)\n",
    "    \n",
    "    for node in range(A.shape[0]):\n",
    "        if node!=center_idx:\n",
    "            for c in range(C):\n",
    "                kl_div = np.exp(L[node][c]) * (L[node][c] - L[center_idx][c])\n",
    "                \n",
    "                if kl_div > 0:\n",
    "                    num_new_nodes = int(kl_div * rho * np.log1p(A[node].sum())) \n",
    "                    for _ in range(num_new_nodes):\n",
    "                        new_node = A.shape[0]\n",
    "                        \n",
    "                        new_adj_row = np.zeros((1, A.shape[1]))\n",
    "                        A = np.vstack([A, new_adj_row])\n",
    "                        \n",
    "                        new_adj_col = np.zeros((A.shape[0], 1))\n",
    "                        A = np.hstack([A, new_adj_col])\n",
    "                        \n",
    "                        A[node, new_node] = 1\n",
    "                        A[new_node, node] = 1\n",
    "                        \n",
    "                        feature_count = np.random.choice(len(M[c]), p=M[c])  \n",
    "                        new_features = np.zeros_like(F[c])\n",
    "                        chosen_features = np.random.choice(len(F[c]), size=feature_count, p=F[c])  \n",
    "                        new_features[chosen_features] = 1 \n",
    "                        \n",
    "                        X = np.vstack([X, new_features])\n",
    "    \n",
    "    Gc=(A,X)\n",
    "    return Gc"
   ]
  },
  {
   "cell_type": "code",
   "execution_count": 403,
   "id": "630a1c2d",
   "metadata": {},
   "outputs": [
    {
     "name": "stderr",
     "output_type": "stream",
     "text": [
      "/opt/anaconda3/envs/gnn/lib/python3.9/site-packages/torch_geometric/data/dataset.py:238: FutureWarning: You are using `torch.load` with `weights_only=False` (the current default value), which uses the default pickle module implicitly. It is possible to construct malicious pickle data which will execute arbitrary code during unpickling (See https://github.com/pytorch/pytorch/blob/main/SECURITY.md#untrusted-models for more details). In a future release, the default value for `weights_only` will be flipped to `True`. This limits the functions that could be executed during unpickling. Arbitrary objects will no longer be allowed to be loaded via this mode unless they are explicitly allowlisted by the user via `torch.serialization.add_safe_globals`. We recommend you start setting `weights_only=True` for any use case where you don't have full control of the loaded file. Please open an issue on GitHub for any issues related to this experimental feature.\n",
      "  if osp.exists(f) and torch.load(f) != _repr(self.pre_transform):\n",
      "/opt/anaconda3/envs/gnn/lib/python3.9/site-packages/torch_geometric/data/dataset.py:246: FutureWarning: You are using `torch.load` with `weights_only=False` (the current default value), which uses the default pickle module implicitly. It is possible to construct malicious pickle data which will execute arbitrary code during unpickling (See https://github.com/pytorch/pytorch/blob/main/SECURITY.md#untrusted-models for more details). In a future release, the default value for `weights_only` will be flipped to `True`. This limits the functions that could be executed during unpickling. Arbitrary objects will no longer be allowed to be loaded via this mode unless they are explicitly allowlisted by the user via `torch.serialization.add_safe_globals`. We recommend you start setting `weights_only=True` for any use case where you don't have full control of the loaded file. Please open an issue on GitHub for any issues related to this experimental feature.\n",
      "  if osp.exists(f) and torch.load(f) != _repr(self.pre_filter):\n",
      "/opt/anaconda3/envs/gnn/lib/python3.9/site-packages/torch_geometric/io/fs.py:215: FutureWarning: You are using `torch.load` with `weights_only=False` (the current default value), which uses the default pickle module implicitly. It is possible to construct malicious pickle data which will execute arbitrary code during unpickling (See https://github.com/pytorch/pytorch/blob/main/SECURITY.md#untrusted-models for more details). In a future release, the default value for `weights_only` will be flipped to `True`. This limits the functions that could be executed during unpickling. Arbitrary objects will no longer be allowed to be loaded via this mode unless they are explicitly allowlisted by the user via `torch.serialization.add_safe_globals`. We recommend you start setting `weights_only=True` for any use case where you don't have full control of the loaded file. Please open an issue on GitHub for any issues related to this experimental feature.\n",
      "  return torch.load(f, map_location)\n"
     ]
    }
   ],
   "source": [
    "dataset=load_dataset_PubMed()"
   ]
  },
  {
   "cell_type": "code",
   "execution_count": 404,
   "id": "52d66cb5",
   "metadata": {},
   "outputs": [],
   "source": [
    "data=dataset[0]"
   ]
  },
  {
   "cell_type": "code",
   "execution_count": 405,
   "id": "4e087e7b",
   "metadata": {},
   "outputs": [],
   "source": [
    "labels=data.y.numpy()"
   ]
  },
  {
   "cell_type": "code",
   "execution_count": 406,
   "id": "8583c08e",
   "metadata": {},
   "outputs": [],
   "source": [
    "num_classes=dataset.num_classes"
   ]
  },
  {
   "cell_type": "code",
   "execution_count": 407,
   "id": "5a697e59",
   "metadata": {},
   "outputs": [],
   "source": [
    "num_features=data.x.shape[1]"
   ]
  },
  {
   "cell_type": "code",
   "execution_count": 408,
   "id": "54d4c85b",
   "metadata": {},
   "outputs": [],
   "source": [
    "F,M=get_distribution(num_classes)"
   ]
  },
  {
   "cell_type": "code",
   "execution_count": 409,
   "id": "b8e2820e",
   "metadata": {},
   "outputs": [],
   "source": [
    "runturns=100"
   ]
  },
  {
   "cell_type": "code",
   "execution_count": 410,
   "id": "4ec4096e",
   "metadata": {},
   "outputs": [],
   "source": [
    "f=GCN_Victim(data.x.shape[1],dataset.num_classes)"
   ]
  },
  {
   "cell_type": "code",
   "execution_count": 411,
   "id": "57bb13d0-e87e-4c64-8ff6-801719957671",
   "metadata": {},
   "outputs": [
    {
     "name": "stdout",
     "output_type": "stream",
     "text": [
      "Epoch 10, Loss: 1.09992\n",
      "Epoch 20, Loss: 0.30715\n",
      "Epoch 30, Loss: 0.01312\n",
      "Epoch 40, Loss: 0.00065\n",
      "Epoch 50, Loss: 0.00110\n",
      "Epoch 60, Loss: 0.00640\n",
      "Epoch 70, Loss: 0.00655\n",
      "Epoch 80, Loss: 0.00322\n",
      "Epoch 90, Loss: 0.00377\n",
      "Epoch 100, Loss: 0.00365\n",
      "Epoch 110, Loss: 0.00308\n",
      "Epoch 120, Loss: 0.00335\n",
      "Epoch 130, Loss: 0.00332\n",
      "Epoch 140, Loss: 0.74445\n",
      "Epoch 150, Loss: 0.10006\n",
      "Epoch 160, Loss: 0.03275\n",
      "Epoch 170, Loss: 0.03017\n",
      "Epoch 180, Loss: 0.01279\n",
      "Epoch 190, Loss: 0.00344\n",
      "Epoch 200, Loss: 0.00231\n",
      "Epoch 210, Loss: 0.00214\n",
      "Epoch 220, Loss: 0.00222\n",
      "Epoch 230, Loss: 0.00231\n",
      "Epoch 240, Loss: 0.00225\n",
      "Epoch 250, Loss: 0.00184\n",
      "Epoch 260, Loss: 0.00140\n",
      "Epoch 270, Loss: 0.00138\n",
      "Epoch 280, Loss: 0.00144\n",
      "Epoch 290, Loss: 0.00148\n",
      "Epoch 300, Loss: 0.00160\n"
     ]
    }
   ],
   "source": [
    "train_Victim(f,data)"
   ]
  },
  {
   "cell_type": "code",
   "execution_count": 412,
   "id": "276c03f5",
   "metadata": {},
   "outputs": [],
   "source": [
    "As, Xs, center_node, node_mapping=get_2hop_subgraph(data)"
   ]
  },
  {
   "cell_type": "code",
   "execution_count": 413,
   "id": "4c18de33",
   "metadata": {},
   "outputs": [],
   "source": [
    "Gs=(As,Xs)"
   ]
  },
  {
   "cell_type": "code",
   "execution_count": 414,
   "id": "1fde608b-a09e-4640-a8d2-352dadcea63e",
   "metadata": {},
   "outputs": [
    {
     "name": "stdout",
     "output_type": "stream",
     "text": [
      "The index of the node is 10875\n"
     ]
    }
   ],
   "source": [
    "print(f\"The index of the node is {center_node}\")"
   ]
  },
  {
   "cell_type": "code",
   "execution_count": 415,
   "id": "01016b94-1bb2-4077-90a9-e933e00669be",
   "metadata": {},
   "outputs": [],
   "source": [
    "XG, AG, SL=SubgraphSamplingAlgorithm(Gs,F, M, n=10, C=dataset.num_classes)"
   ]
  },
  {
   "cell_type": "code",
   "execution_count": 416,
   "id": "1b7169d0-e811-4a91-bdf0-d78394dbd74f",
   "metadata": {},
   "outputs": [],
   "source": [
    "g=GCN_Extraction(XG.shape[1], dataset.num_classes)"
   ]
  },
  {
   "cell_type": "code",
   "execution_count": 417,
   "id": "e3c33d61-191a-4c43-ab13-6429fd65c87a",
   "metadata": {},
   "outputs": [
    {
     "name": "stdout",
     "output_type": "stream",
     "text": [
      "Epoch 10, Loss: 1.09956\n",
      "Epoch 20, Loss: 0.83375\n",
      "Epoch 30, Loss: 0.45949\n",
      "Epoch 40, Loss: 0.19383\n",
      "Epoch 50, Loss: 0.08958\n",
      "Epoch 60, Loss: 0.05869\n",
      "Epoch 70, Loss: 0.05016\n",
      "Epoch 80, Loss: 0.04836\n",
      "Epoch 90, Loss: 0.04778\n",
      "Epoch 100, Loss: 0.04641\n",
      "Epoch 110, Loss: 0.04423\n",
      "Epoch 120, Loss: 0.04188\n",
      "Epoch 130, Loss: 0.03979\n",
      "Epoch 140, Loss: 0.03800\n",
      "Epoch 150, Loss: 0.03649\n",
      "Epoch 160, Loss: 0.03517\n",
      "Epoch 170, Loss: 0.03397\n",
      "Epoch 180, Loss: 0.03290\n",
      "Epoch 190, Loss: 0.03193\n",
      "Epoch 200, Loss: 0.03106\n",
      "Epoch 210, Loss: 0.03025\n",
      "Epoch 220, Loss: 0.02949\n",
      "Epoch 230, Loss: 0.02884\n",
      "Epoch 240, Loss: 0.02819\n",
      "Epoch 250, Loss: 0.02759\n",
      "Epoch 260, Loss: 0.02707\n",
      "Epoch 270, Loss: 0.02658\n",
      "Epoch 280, Loss: 0.02609\n",
      "Epoch 290, Loss: 0.02565\n",
      "Epoch 300, Loss: 0.02524\n",
      "Epoch 310, Loss: 0.02486\n",
      "Epoch 320, Loss: 0.02450\n",
      "Epoch 330, Loss: 0.02416\n",
      "Epoch 340, Loss: 0.02384\n",
      "Epoch 350, Loss: 0.02354\n",
      "Epoch 360, Loss: 0.02324\n",
      "Epoch 370, Loss: 0.02297\n",
      "Epoch 380, Loss: 0.02273\n",
      "Epoch 390, Loss: 0.02248\n",
      "Epoch 400, Loss: 0.02225\n"
     ]
    }
   ],
   "source": [
    "train_Extraction(g,XG,AG,SL)"
   ]
  },
  {
   "cell_type": "code",
   "execution_count": 418,
   "id": "50fd26b9-00b1-40af-b1af-0e2a9355e54d",
   "metadata": {},
   "outputs": [
    {
     "name": "stdout",
     "output_type": "stream",
     "text": [
      "0.7960000000000009\n"
     ]
    }
   ],
   "source": [
    "print(get_f(f,g,data,data.val_mask,runturns))"
   ]
  },
  {
   "cell_type": "code",
   "execution_count": 419,
   "id": "3f21aab2-b4fe-4554-ae00-edf916102294",
   "metadata": {},
   "outputs": [],
   "source": [
    "Gs_with_approximated_nodes = approximate_nodes(Gs, api_out_vector, F, M, C=dataset.num_classes,rho=2)"
   ]
  },
  {
   "cell_type": "code",
   "execution_count": 420,
   "id": "31210e99-410f-4e0c-9118-747b408c906c",
   "metadata": {},
   "outputs": [
    {
     "name": "stdout",
     "output_type": "stream",
     "text": [
      "The size of tensors with algo1((22, 22), (22, 500))\n",
      "The size of tensors with algo2((31, 31), (31, 500))\n"
     ]
    }
   ],
   "source": [
    "print(f\"The size of tensors with algo1{Gs[0].shape,Gs[1].shape}\")\n",
    "print(f\"The size of tensors with algo2{Gs_with_approximated_nodes[0].shape,Gs_with_approximated_nodes[1].shape}\")"
   ]
  },
  {
   "cell_type": "code",
   "execution_count": 421,
   "id": "fbf7c6a3-ffc6-4a4e-94cf-2bbe15f7a6b6",
   "metadata": {},
   "outputs": [],
   "source": [
    "XG1, AG1, SL1=SubgraphSamplingAlgorithm(Gs_with_approximated_nodes,F, M, n=10, C=dataset.num_classes)"
   ]
  },
  {
   "cell_type": "code",
   "execution_count": 422,
   "id": "e3d14421-d273-4f81-8292-79023bbdaa5a",
   "metadata": {},
   "outputs": [],
   "source": [
    "g1=GCN_Extraction(XG1.shape[1], dataset.num_classes)"
   ]
  },
  {
   "cell_type": "code",
   "execution_count": 423,
   "id": "8b08199e-6de5-4593-9afd-534f9460e3bb",
   "metadata": {},
   "outputs": [
    {
     "name": "stdout",
     "output_type": "stream",
     "text": [
      "Epoch 10, Loss: 1.09855\n",
      "Epoch 20, Loss: 0.86194\n",
      "Epoch 30, Loss: 0.51170\n",
      "Epoch 40, Loss: 0.23007\n",
      "Epoch 50, Loss: 0.10529\n",
      "Epoch 60, Loss: 0.06656\n",
      "Epoch 70, Loss: 0.05682\n",
      "Epoch 80, Loss: 0.05563\n",
      "Epoch 90, Loss: 0.05490\n",
      "Epoch 100, Loss: 0.05220\n",
      "Epoch 110, Loss: 0.04857\n",
      "Epoch 120, Loss: 0.04533\n",
      "Epoch 130, Loss: 0.04283\n",
      "Epoch 140, Loss: 0.04085\n",
      "Epoch 150, Loss: 0.03914\n",
      "Epoch 160, Loss: 0.03760\n",
      "Epoch 170, Loss: 0.03620\n",
      "Epoch 180, Loss: 0.03495\n",
      "Epoch 190, Loss: 0.03383\n",
      "Epoch 200, Loss: 0.03281\n",
      "Epoch 210, Loss: 0.03189\n",
      "Epoch 220, Loss: 0.03104\n",
      "Epoch 230, Loss: 0.03026\n",
      "Epoch 240, Loss: 0.02953\n",
      "Epoch 250, Loss: 0.02887\n",
      "Epoch 260, Loss: 0.02825\n",
      "Epoch 270, Loss: 0.02768\n",
      "Epoch 280, Loss: 0.02714\n",
      "Epoch 290, Loss: 0.02663\n",
      "Epoch 300, Loss: 0.02617\n",
      "Epoch 310, Loss: 0.02573\n",
      "Epoch 320, Loss: 0.02531\n",
      "Epoch 330, Loss: 0.02492\n",
      "Epoch 340, Loss: 0.02456\n",
      "Epoch 350, Loss: 0.02421\n",
      "Epoch 360, Loss: 0.02388\n",
      "Epoch 370, Loss: 0.02358\n",
      "Epoch 380, Loss: 0.02328\n",
      "Epoch 390, Loss: 0.02300\n",
      "Epoch 400, Loss: 0.02274\n"
     ]
    }
   ],
   "source": [
    "train_Extraction(g1,XG1,AG1,SL1)"
   ]
  },
  {
   "cell_type": "code",
   "execution_count": 424,
   "id": "ab2407ae-8f0b-4c7f-8b29-505c20a9796d",
   "metadata": {},
   "outputs": [
    {
     "name": "stdout",
     "output_type": "stream",
     "text": [
      "0.8259999999999988\n"
     ]
    }
   ],
   "source": [
    "print(get_f(f,g1,data,data.val_mask,runturns))"
   ]
  },
  {
   "cell_type": "code",
   "execution_count": null,
   "id": "9820597c-0c7d-4cb8-ae22-39d7b89bf924",
   "metadata": {},
   "outputs": [],
   "source": []
  }
 ],
 "metadata": {
  "kernelspec": {
   "display_name": "Python 3 (ipykernel)",
   "language": "python",
   "name": "python3"
  },
  "language_info": {
   "codemirror_mode": {
    "name": "ipython",
    "version": 3
   },
   "file_extension": ".py",
   "mimetype": "text/x-python",
   "name": "python",
   "nbconvert_exporter": "python",
   "pygments_lexer": "ipython3",
   "version": "3.9.19"
  }
 },
 "nbformat": 4,
 "nbformat_minor": 5
}
