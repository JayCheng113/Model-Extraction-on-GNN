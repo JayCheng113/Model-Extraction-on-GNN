{
 "cells": [
  {
   "cell_type": "code",
   "execution_count": 25,
   "id": "22581e55-c93c-4325-aa01-798c583cebb6",
   "metadata": {},
   "outputs": [],
   "source": [
    "import torch\n",
    "import numpy as np\n",
    "import torch.nn as nn\n",
    "import torch.optim as optim\n",
    "from torch_geometric.datasets import Planetoid\n",
    "from torch_geometric.utils import subgraph, k_hop_subgraph, dense_to_sparse\n",
    "from torch_geometric.nn import GCNConv\n",
    "from sklearn.metrics import accuracy_score\n",
    "import torch.nn.functional as FF"
   ]
  },
  {
   "cell_type": "code",
   "execution_count": 26,
   "id": "24054527-3e7a-4a18-a1ae-d7a3e8ea7bd3",
   "metadata": {},
   "outputs": [
    {
     "name": "stderr",
     "output_type": "stream",
     "text": [
      "/opt/anaconda3/envs/gnn/lib/python3.9/site-packages/torch_geometric/data/dataset.py:238: FutureWarning: You are using `torch.load` with `weights_only=False` (the current default value), which uses the default pickle module implicitly. It is possible to construct malicious pickle data which will execute arbitrary code during unpickling (See https://github.com/pytorch/pytorch/blob/main/SECURITY.md#untrusted-models for more details). In a future release, the default value for `weights_only` will be flipped to `True`. This limits the functions that could be executed during unpickling. Arbitrary objects will no longer be allowed to be loaded via this mode unless they are explicitly allowlisted by the user via `torch.serialization.add_safe_globals`. We recommend you start setting `weights_only=True` for any use case where you don't have full control of the loaded file. Please open an issue on GitHub for any issues related to this experimental feature.\n",
      "  if osp.exists(f) and torch.load(f) != _repr(self.pre_transform):\n",
      "/opt/anaconda3/envs/gnn/lib/python3.9/site-packages/torch_geometric/data/dataset.py:246: FutureWarning: You are using `torch.load` with `weights_only=False` (the current default value), which uses the default pickle module implicitly. It is possible to construct malicious pickle data which will execute arbitrary code during unpickling (See https://github.com/pytorch/pytorch/blob/main/SECURITY.md#untrusted-models for more details). In a future release, the default value for `weights_only` will be flipped to `True`. This limits the functions that could be executed during unpickling. Arbitrary objects will no longer be allowed to be loaded via this mode unless they are explicitly allowlisted by the user via `torch.serialization.add_safe_globals`. We recommend you start setting `weights_only=True` for any use case where you don't have full control of the loaded file. Please open an issue on GitHub for any issues related to this experimental feature.\n",
      "  if osp.exists(f) and torch.load(f) != _repr(self.pre_filter):\n",
      "/opt/anaconda3/envs/gnn/lib/python3.9/site-packages/torch_geometric/io/fs.py:215: FutureWarning: You are using `torch.load` with `weights_only=False` (the current default value), which uses the default pickle module implicitly. It is possible to construct malicious pickle data which will execute arbitrary code during unpickling (See https://github.com/pytorch/pytorch/blob/main/SECURITY.md#untrusted-models for more details). In a future release, the default value for `weights_only` will be flipped to `True`. This limits the functions that could be executed during unpickling. Arbitrary objects will no longer be allowed to be loaded via this mode unless they are explicitly allowlisted by the user via `torch.serialization.add_safe_globals`. We recommend you start setting `weights_only=True` for any use case where you don't have full control of the loaded file. Please open an issue on GitHub for any issues related to this experimental feature.\n",
      "  return torch.load(f, map_location)\n"
     ]
    }
   ],
   "source": [
    "dataset=Planetoid(root='tmp/Cora', name='Cora')\n",
    "data=dataset[0]"
   ]
  },
  {
   "cell_type": "code",
   "execution_count": 27,
   "id": "4bfab36b-e3c6-473b-ad1d-49a92bf8825b",
   "metadata": {},
   "outputs": [],
   "source": [
    "def get_valid_2hop_subgraph(data, min_size=100, max_size=150):\n",
    "    num_nodes=data.num_nodes\n",
    "\n",
    "    while True:\n",
    "        node_idx=torch.randint(0,num_nodes,(1,)).item()\n",
    "        subset, edge_index,_,_=k_hop_subgraph(node_idx, 2, data.edge_index, relabel_nodes=True)\n",
    "\n",
    "        if min_size<=subset.size(0)<=max_size:\n",
    "            As=torch.zeros((subset.size(0),subset.size(0)))\n",
    "            As[edge_index[0],edge_index[1]]=1\n",
    "\n",
    "            Xs=data.x[subset]\n",
    "\n",
    "            return As.numpy(), Xs.numpy(), node_idx, subset"
   ]
  },
  {
   "cell_type": "code",
   "execution_count": 28,
   "id": "33597d95-40fb-4ca6-885d-e8b7c43a6ae6",
   "metadata": {},
   "outputs": [],
   "source": [
    "class GCN(nn.Module):\n",
    "    def __init__(self, num_features, num_classes):\n",
    "        super(GCN,self).__init__()\n",
    "        self.conv1=GCNConv(num_features,16)\n",
    "        self.conv2=GCNConv(16, num_classes)\n",
    "        \n",
    "    def forward(self, x, edge_index):\n",
    "        x=self.conv1(x,edge_index)\n",
    "        x=torch.relu(x)\n",
    "        x=self.conv2(x,edge_index)\n",
    "        return torch.log_softmax(x, dim=1)"
   ]
  },
  {
   "cell_type": "code",
   "execution_count": 29,
   "id": "e22a9b2f-c05b-4072-a85d-ece141ce9a89",
   "metadata": {},
   "outputs": [],
   "source": [
    "class GCN_victim(nn.Module):\n",
    "    def __init__(self, num_features, num_classes):\n",
    "        super(GCN_victim,self).__init__()\n",
    "        self.conv1=GCNConv(num_features,128)\n",
    "        self.conv2=GCNConv(128,64)\n",
    "        self.conv3=GCNConv(64, 16)\n",
    "        self.conv4=GCNConv(16,num_classes)\n",
    "\n",
    "    def forward(self, x, edge_index):\n",
    "        x=self.conv1(x,edge_index)\n",
    "        x=torch.relu(x)\n",
    "        x=FF.dropout(x,training=self.training)\n",
    "        x = self.conv2(x, edge_index)\n",
    "        x=torch.relu(x)\n",
    "        x=FF.dropout(x,training=self.training)\n",
    "        x=self.conv3(x,edge_index)\n",
    "        x=torch.relu(x)\n",
    "        x=self.conv4(x, edge_index)\n",
    "        return torch.log_softmax(x, dim=1)"
   ]
  },
  {
   "cell_type": "code",
   "execution_count": 30,
   "id": "a8be6c6b-8cd5-4f10-95a6-99058ab56ea5",
   "metadata": {},
   "outputs": [],
   "source": [
    "def GenerateSample(Fc, Mc, As):\n",
    "    num_nodes=As.shape[0]\n",
    "    Ac=torch.ones((num_nodes,num_nodes))\n",
    "    Xc=torch.zeros(num_nodes, len(Fc))\n",
    "\n",
    "    for i in range(num_nodes):\n",
    "        m=np.random.choice(np.arange(len(Mc)),p=Mc)\n",
    "        features=np.random.choice(len(Fc),size=m,replace=False,p=Fc)\n",
    "        Xc[i,features]=1\n",
    "\n",
    "    return Ac.numpy(), Xc.numpy()"
   ]
  },
  {
   "cell_type": "code",
   "execution_count": 31,
   "id": "5b7980b1-3c88-4af2-9989-938a54aca6c1",
   "metadata": {},
   "outputs": [],
   "source": [
    "def SubgraphSamplingAlgorithm(Gs, api_function, F, M, n, C):\n",
    "    As, Xs=Gs\n",
    "    num_nodes=As.shape[0]\n",
    "    SA=[As]\n",
    "    SX=[Xs]\n",
    "    SL=[api_function(Xs,As)]\n",
    "\n",
    "    for i in range(n):\n",
    "        for c in range(C):\n",
    "            Ac, Xc=GenerateSample(F[c],M[c],As)\n",
    "            SA.append(Ac)\n",
    "            SX.append(Xc)\n",
    "            SL.append(api_function(Xc,Ac))\n",
    "\n",
    "    AG_list=[dense_to_sparse(torch.tensor(a))[0] for a in SA]\n",
    "    XG=torch.vstack([torch.tensor(x) for x in SX])\n",
    "\n",
    "    SL=torch.tensor(SL,dtype=torch.long).view(-1)\n",
    "\n",
    "\n",
    "    valid_mask = SL >= 0\n",
    "    SL = SL[valid_mask]\n",
    "    SL = SL[:XG.shape[0]]\n",
    "\n",
    "    \n",
    "    AG_combined=torch.cat([edge_index+i*num_nodes for i, edge_index in enumerate (AG_list)], dim=1)\n",
    "    num_nodes_combined=XG.shape[0]\n",
    "\n",
    "\n",
    "    \n",
    "    g=GCN(XG.shape[1], C)\n",
    "    optimizer=optim.Adam(g.parameters(),lr=0.01)\n",
    "    loss_fn=nn.CrossEntropyLoss()\n",
    "\n",
    "\n",
    "    g.train()\n",
    "    for epoch in range(200):\n",
    "        optimizer.zero_grad()\n",
    "        out=g(XG,AG_combined)\n",
    "        loss=loss_fn(out,SL)\n",
    "        loss.backward()\n",
    "        optimizer.step()\n",
    "\n",
    "    return g"
   ]
  },
  {
   "cell_type": "code",
   "execution_count": 32,
   "id": "8bd3d5d6-c00a-4765-b06c-2dfe1f37aa02",
   "metadata": {},
   "outputs": [],
   "source": [
    "def api_wrapper(features, adjacency_matrix):\n",
    "    features_tensor=torch.tensor(features,dtype=torch.float)\n",
    "    adjacency_tensor=torch.tensor(adjacency_matrix,dtype=torch.long)\n",
    "\n",
    "    if adjacency_tensor.ndim==2 and adjacency_tensor.shape[0]==adjacency_tensor.shape[1]:\n",
    "        adjacency_tensor=torch.nonzero(adjacency_tensor, as_tuple=False).t()\n",
    "\n",
    "    with torch.no_grad():\n",
    "        logits=f(features_tensor, adjacency_tensor)\n",
    "        predictions = torch.argmax(logits, dim=1)\n",
    "\n",
    "    \n",
    "    return predictions.numpy()"
   ]
  },
  {
   "cell_type": "code",
   "execution_count": 33,
   "id": "525a12c7-4cee-458f-88bd-b07d48eb1379",
   "metadata": {},
   "outputs": [],
   "source": [
    "def model_out(features, adjacency_matrix):\n",
    "    features_tensor=torch.tensor(features,dtype=torch.float)\n",
    "    adjacency_tensor=torch.tensor(adjacency_matrix,dtype=torch.long)\n",
    "\n",
    "    if adjacency_tensor.ndim==2 and adjacency_tensor.shape[0]==adjacency_tensor.shape[1]:\n",
    "        adjacency_tensor=torch.nonzero(adjacency_tensor, as_tuple=False).t()\n",
    "        \n",
    "    with torch.no_grad():\n",
    "        logits=f(features_tensor, adjacency_tensor)\n",
    "\n",
    "    return logits.numpy()"
   ]
  },
  {
   "cell_type": "code",
   "execution_count": 34,
   "id": "533ed1e6-f55b-4043-9d6d-114ce056318b",
   "metadata": {},
   "outputs": [],
   "source": [
    "As, Xs, center_node, node_mapping=get_valid_2hop_subgraph(data)"
   ]
  },
  {
   "cell_type": "code",
   "execution_count": 35,
   "id": "ed8d00a0-50e4-4ed5-b97e-8a48d1a08153",
   "metadata": {},
   "outputs": [
    {
     "name": "stdout",
     "output_type": "stream",
     "text": [
      "Center node:2001, 2-hop subgraph size:112\n"
     ]
    }
   ],
   "source": [
    "Gs=(As,Xs)\n",
    "print(f\"Center node:{center_node}, 2-hop subgraph size:{As.shape[0]}\")"
   ]
  },
  {
   "cell_type": "code",
   "execution_count": 36,
   "id": "9d59f505-57eb-4e67-9794-efab22a61a5e",
   "metadata": {},
   "outputs": [],
   "source": [
    "f=GCN_victim(Xs.shape[1],dataset.num_classes)"
   ]
  },
  {
   "cell_type": "code",
   "execution_count": 37,
   "id": "abf9f4bb-084d-435c-a68c-363c08b10d15",
   "metadata": {},
   "outputs": [],
   "source": [
    "api_function=api_wrapper"
   ]
  },
  {
   "cell_type": "code",
   "execution_count": 38,
   "id": "754c47c3-8630-47ad-a68e-35d2de0ade15",
   "metadata": {},
   "outputs": [],
   "source": [
    "labels=data.y.numpy()\n",
    "num_classes=dataset.num_classes\n",
    "num_features=data.x.shape[1]"
   ]
  },
  {
   "cell_type": "code",
   "execution_count": 39,
   "id": "dd9a87a4-940d-4694-a3f7-a13388a1e35b",
   "metadata": {},
   "outputs": [],
   "source": [
    "F=[]\n",
    "M=[]"
   ]
  },
  {
   "cell_type": "code",
   "execution_count": 40,
   "id": "4b5b2377-dc50-4213-906b-54a5abd0972b",
   "metadata": {},
   "outputs": [],
   "source": [
    "for c in range(num_classes):\n",
    "    class_nodes=data.x[labels==c]\n",
    "\n",
    "    feature_counts=class_nodes.sum(dim=0).numpy()\n",
    "    feature_distribution=feature_counts/feature_counts.sum()\n",
    "    F.append(feature_distribution)\n",
    "\n",
    "    num_features_per_node=class_nodes.sum(dim=1).numpy()\n",
    "    feature_count_distribution=np.bincount(num_features_per_node.astype(int),minlength=num_features)\n",
    "    M.append(feature_count_distribution/feature_count_distribution.sum())"
   ]
  },
  {
   "cell_type": "code",
   "execution_count": 41,
   "id": "479f3f11-7c89-44d9-82ec-28a754b1d77d",
   "metadata": {},
   "outputs": [],
   "source": [
    "g=SubgraphSamplingAlgorithm(Gs, api_function, F, M, n=10, C=dataset.num_classes)"
   ]
  },
  {
   "cell_type": "code",
   "execution_count": 42,
   "id": "d4f2e48d-5a97-4c38-b83f-ff83b1e6f21b",
   "metadata": {},
   "outputs": [],
   "source": [
    "def evaluate(original_model, extracted_model, test_features, test_adj):\n",
    "    original_preds_labels=api_wrapper(test_features, test_adj)\n",
    "    test_adj_tensor=torch.tensor(test_adj,dtype=torch.float)\n",
    "    edge_index, edge_weight=dense_to_sparse(test_adj_tensor)\n",
    "    with torch.no_grad():\n",
    "        extracted_preds=extracted_model(torch.tensor(test_features,dtype=torch.float),edge_index)\n",
    "        \n",
    "    extracted_preds_labels=extracted_preds.argmax(dim=1).numpy()\n",
    "\n",
    "    f=accuracy_score(original_preds_labels, extracted_preds_labels)\n",
    "\n",
    "    return f"
   ]
  },
  {
   "cell_type": "code",
   "execution_count": 50,
   "id": "de2efbe4-e640-4236-a535-e3f83c3660a8",
   "metadata": {},
   "outputs": [
    {
     "name": "stdout",
     "output_type": "stream",
     "text": [
      "Fidelity of the extracted model compared to the original model: 0.4760\n"
     ]
    }
   ],
   "source": [
    "f_list=[]\n",
    "for i in range(1000):\n",
    "    f_score=evaluate(api_function,g,Xs,As)\n",
    "    f_list.append(f_score)\n",
    "print(f\"Fidelity of the extracted model compared to the original model: {sum(f_list)/len(f_list):.4f}\")"
   ]
  },
  {
   "cell_type": "code",
   "execution_count": 44,
   "id": "8c5465d5-68d1-4cc6-89d1-f8ea45352578",
   "metadata": {},
   "outputs": [],
   "source": [
    "def find_center_node_in_subgraph(center_global_idx, node_mapping):\n",
    "    center_subgraph_idx = node_mapping.tolist().index(center_global_idx)\n",
    "    return center_subgraph_idx"
   ]
  },
  {
   "cell_type": "code",
   "execution_count": 45,
   "id": "549f3fd9-1965-45dd-a476-20629d9c3294",
   "metadata": {},
   "outputs": [],
   "source": [
    "def approximate_nodes(Gc, api_function_model, F, M, C, rho,alpha):\n",
    "    A,X=Gc\n",
    "    L=api_function_model(X, A)\n",
    "    center_idx=find_center_node_in_subgraph(center_node,node_mapping)\n",
    "    for node in range(A.shape[0]):\n",
    "        if node!=center_idx:\n",
    "            Dn=L[node]-L[center_idx]\n",
    "            for c in range(C):\n",
    "                if Dn[c]>0:\n",
    "                    num_new_nodes=int(Dn[c]*rho*A[node].sum()*alpha)\n",
    "                    for _ in range(num_new_nodes):\n",
    "                        new_node = A.shape[0]\n",
    "                        \n",
    "                        new_adj_row = np.zeros((1, A.shape[1]))\n",
    "                        A = np.vstack([A, new_adj_row])\n",
    "                        \n",
    "                        new_adj_col = np.zeros((A.shape[0], 1))\n",
    "                        A = np.hstack([A, new_adj_col])\n",
    "                        \n",
    "                        A[node, new_node] = 1\n",
    "                        A[new_node, node] = 1\n",
    "                        \n",
    "                        feature_count = np.random.choice(len(M[c]), p=M[c])  \n",
    "                        new_features = np.zeros_like(F[c])\n",
    "                        chosen_features = np.random.choice(len(F[c]), size=feature_count, p=F[c])  \n",
    "                        new_features[chosen_features] = 1  \n",
    "\n",
    "                        X = np.vstack([X, new_features])\n",
    "    Gc=(A,X)\n",
    "    return Gc"
   ]
  },
  {
   "cell_type": "code",
   "execution_count": 46,
   "id": "8c01b27c-4cd5-48c6-a614-201a7230c65f",
   "metadata": {},
   "outputs": [],
   "source": [
    "Gs_with_approximated_nodes = approximate_nodes(Gs, model_out, F, M, C=dataset.num_classes,rho=2, alpha=3)"
   ]
  },
  {
   "cell_type": "code",
   "execution_count": 49,
   "id": "0075b0e4-ed19-44c4-88f5-c114beb4019d",
   "metadata": {},
   "outputs": [
    {
     "name": "stdout",
     "output_type": "stream",
     "text": [
      "(318, 318) (318, 1433)\n"
     ]
    }
   ],
   "source": [
    "print(Gs_with_approximated_nodes[0].shape,Gs_with_approximated_nodes[1].shape)"
   ]
  },
  {
   "cell_type": "code",
   "execution_count": 47,
   "id": "00eab957-6572-4adc-9770-1424cac9fd34",
   "metadata": {},
   "outputs": [],
   "source": [
    "g1=SubgraphSamplingAlgorithm(Gs_with_approximated_nodes, api_function, F, M, n=10, C=dataset.num_classes)"
   ]
  },
  {
   "cell_type": "code",
   "execution_count": 51,
   "id": "ccc5dc84-f153-4cfa-895d-19ffa13c81c8",
   "metadata": {},
   "outputs": [
    {
     "name": "stdout",
     "output_type": "stream",
     "text": [
      "Fidelity of the extracted model compared to the original model: 0.5520\n"
     ]
    }
   ],
   "source": [
    "f1_list=[]\n",
    "for i in range(1000):\n",
    "    f1_score=evaluate(api_function,g1,Xs,As)\n",
    "    f1_list.append(f1_score)\n",
    "print(f\"Fidelity of the extracted model compared to the original model: {sum(f1_list)/len(f1_list):.4f}\")"
   ]
  },
  {
   "cell_type": "code",
   "execution_count": null,
   "id": "07b171c7-9846-442c-aefb-c5098869c429",
   "metadata": {},
   "outputs": [],
   "source": []
  }
 ],
 "metadata": {
  "kernelspec": {
   "display_name": "Python 3 (ipykernel)",
   "language": "python",
   "name": "python3"
  },
  "language_info": {
   "codemirror_mode": {
    "name": "ipython",
    "version": 3
   },
   "file_extension": ".py",
   "mimetype": "text/x-python",
   "name": "python",
   "nbconvert_exporter": "python",
   "pygments_lexer": "ipython3",
   "version": "3.9.19"
  }
 },
 "nbformat": 4,
 "nbformat_minor": 5
}
