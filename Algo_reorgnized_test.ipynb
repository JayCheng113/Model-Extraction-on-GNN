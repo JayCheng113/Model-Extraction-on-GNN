{
 "cells": [
  {
   "cell_type": "code",
   "execution_count": 469,
   "id": "3bd02f81",
   "metadata": {},
   "outputs": [],
   "source": [
    "import torch\n",
    "import numpy as np\n",
    "import torch.nn as nn\n",
    "import torch.optim as optim\n",
    "from torch_geometric.datasets import Planetoid\n",
    "from torch_geometric.utils import subgraph, k_hop_subgraph, dense_to_sparse\n",
    "from torch_geometric.nn import GCNConv\n",
    "from sklearn.metrics import accuracy_score\n",
    "import torch.nn.functional as FF"
   ]
  },
  {
   "cell_type": "code",
   "execution_count": 470,
   "id": "eb548356",
   "metadata": {},
   "outputs": [],
   "source": [
    "def load_dataset_Cora():\n",
    "    dataset=Planetoid(root='tmp/Cora', name='Cora')\n",
    "    return dataset"
   ]
  },
  {
   "cell_type": "code",
   "execution_count": 471,
   "id": "73fb4277-0b98-41b7-aff3-a9aa712431b1",
   "metadata": {},
   "outputs": [],
   "source": [
    "def load_dataset_PubMed():\n",
    "    dataset=Planetoid(root='tmp/PubMed', name='PubMed')\n",
    "    return dataset"
   ]
  },
  {
   "cell_type": "code",
   "execution_count": 472,
   "id": "8d288587",
   "metadata": {},
   "outputs": [],
   "source": [
    "class GCN_Extraction(nn.Module):\n",
    "    def __init__(self, num_features, num_classes):\n",
    "        super(GCN_Extraction,self).__init__()\n",
    "        self.conv1=GCNConv(num_features,16)\n",
    "        self.conv2=GCNConv(16, num_classes)\n",
    "        \n",
    "    def forward(self, x, edge_index):\n",
    "        x=self.conv1(x,edge_index)\n",
    "        x=torch.relu(x)\n",
    "        x=self.conv2(x,edge_index)\n",
    "        return torch.log_softmax(x, dim=1)"
   ]
  },
  {
   "cell_type": "code",
   "execution_count": 473,
   "id": "cb1ba4b4",
   "metadata": {},
   "outputs": [],
   "source": [
    "class GCN_Victim(nn.Module):\n",
    "    def __init__(self, num_features, num_classes):\n",
    "        super(GCN_Victim,self).__init__()\n",
    "        self.conv1=GCNConv(num_features,128)\n",
    "        self.conv2=GCNConv(128,64)\n",
    "        self.conv3=GCNConv(64, 16)\n",
    "        self.conv4=GCNConv(16,num_classes)\n",
    "\n",
    "    def forward(self, x, edge_index):\n",
    "        x=self.conv1(x,edge_index)\n",
    "        x=torch.relu(x)\n",
    "        x = self.conv2(x, edge_index)\n",
    "        x=torch.relu(x)\n",
    "        x=self.conv3(x,edge_index)\n",
    "        x=torch.relu(x)\n",
    "        x=self.conv4(x, edge_index)\n",
    "        return torch.log_softmax(x, dim=1)"
   ]
  },
  {
   "cell_type": "code",
   "execution_count": 474,
   "id": "45e6d58a-affb-495d-9c7b-f82a5477fc4b",
   "metadata": {},
   "outputs": [],
   "source": [
    "def train_Victim(model, data, epoches=300, lr=0.01, weight_decay=5e-4):\n",
    "    optimizer=optim.Adam(model.parameters(),lr=lr, weight_decay=weight_decay)\n",
    "    model.train()\n",
    "    \n",
    "    for epoch in range(epoches):\n",
    "        optimizer.zero_grad()\n",
    "        out=model(data.x, data.edge_index)\n",
    "        loss=FF.nll_loss(out[data.train_mask],data.y[data.train_mask])\n",
    "        loss.backward()\n",
    "        optimizer.step()\n",
    "        if epoch % 10 ==0:\n",
    "            print(f\"Epoch {epoch+10}, Loss: {loss.item():.5f}\")"
   ]
  },
  {
   "cell_type": "code",
   "execution_count": 475,
   "id": "7a685305-5155-4648-a210-4a8685239ad8",
   "metadata": {},
   "outputs": [],
   "source": [
    "def train_Extraction(model,features, adjacency_matrix, labels, epoches=400, lr=0.01, weight_decay=5e-4):\n",
    "    optimizer=optim.Adam(model.parameters(),lr=lr, weight_decay=weight_decay)\n",
    "    model.train()\n",
    "\n",
    "    patience_counter = 0\n",
    "    \n",
    "    for epoch in range(epoches):\n",
    "        optimizer.zero_grad()\n",
    "        out=model(features, adjacency_matrix)\n",
    "        loss=FF.nll_loss(out,labels)\n",
    "        loss.backward()\n",
    "        optimizer.step()\n",
    "            \n",
    "        if epoch % 10 ==0:\n",
    "            print(f\"Epoch {epoch+10}, Loss: {loss.item():.5f}\")"
   ]
  },
  {
   "cell_type": "code",
   "execution_count": 476,
   "id": "9bfc0b0b",
   "metadata": {},
   "outputs": [],
   "source": [
    "# Function to extract a 2-hop subgraph from a larger graph.\n",
    "# It samples a random node and retrieves its 2-hop neighborhood if its size is within the specified limits.\n",
    "def get_2hop_subgraph(data, min_size=10, max_size=150):\n",
    "    num_nodes=data.num_nodes\n",
    "\n",
    "    while True:\n",
    "        node_idx=torch.randint(0,num_nodes,(1,)).item()\n",
    "        \n",
    "        subset, edge_index,_,_=k_hop_subgraph(node_idx, 2, data.edge_index, relabel_nodes=True)\n",
    "\n",
    "        if min_size<=subset.size(0)<=max_size:\n",
    "            As=torch.zeros((subset.size(0),subset.size(0)))\n",
    "            As[edge_index[0],edge_index[1]]=1\n",
    "\n",
    "            Xs=data.x[subset]\n",
    "\n",
    "            # Return the adjacency matrix, features, index of the center node, the mapping relationship between the index and the node\n",
    "            return As.numpy(), Xs.numpy(), node_idx, subset"
   ]
  },
  {
   "cell_type": "code",
   "execution_count": 477,
   "id": "c8f3790e",
   "metadata": {},
   "outputs": [],
   "source": [
    "# Function to compute the prior distributions for both feature occurrence and feature count\n",
    "def get_distribution(num_classes):\n",
    "    F=[] # List to store feature distribution for each class\n",
    "    M=[] # List to store feature count distribution for each class\n",
    "    \n",
    "    for c in range(num_classes):\n",
    "        class_nodes=data.x[labels==c]\n",
    "\n",
    "        feature_counts=class_nodes.sum(dim=0).numpy()\n",
    "        feature_distribution=feature_counts/feature_counts.sum()\n",
    "        F.append(feature_distribution)\n",
    "\n",
    "        num_features_per_node=class_nodes.sum(dim=1).numpy()\n",
    "        feature_count_distribution=np.bincount(num_features_per_node.astype(int),minlength=num_features)\n",
    "        M.append(feature_count_distribution/feature_count_distribution.sum())\n",
    "        \n",
    "    return F,M"
   ]
  },
  {
   "cell_type": "code",
   "execution_count": 478,
   "id": "848164c2",
   "metadata": {},
   "outputs": [],
   "source": [
    "# Function to generate a sample graph based on input feature (Fc) and count (Mc) distributions \n",
    "def GenerateSample(Fc, Mc, As):\n",
    "    num_nodes=As.shape[0]\n",
    "    Ac=torch.ones((num_nodes,num_nodes))\n",
    "    Xc=torch.zeros(num_nodes, len(Fc))\n",
    "\n",
    "    for i in range(num_nodes):\n",
    "        m=np.random.choice(np.arange(len(Mc)),p=Mc)\n",
    "        features=np.random.choice(len(Fc),size=m,replace=False,p=Fc)\n",
    "        Xc[i,features]=1\n",
    "\n",
    "    return Ac.numpy(), Xc.numpy()"
   ]
  },
  {
   "cell_type": "code",
   "execution_count": 479,
   "id": "ea30e7b6",
   "metadata": {},
   "outputs": [],
   "source": [
    "# Function to sample subgraphs and combine them into a larger graph\n",
    "def SubgraphSamplingAlgorithm(Gs,F, M, n, C):\n",
    "    As, Xs=Gs\n",
    "    num_nodes=As.shape[0]\n",
    "    SA=[As]\n",
    "    SX=[Xs]\n",
    "    SL=[api_out_class(Xs,As)]\n",
    "\n",
    "    for i in range(n):\n",
    "        # For each class, generate and store a new sampled subgraph\n",
    "        for c in range(C):\n",
    "            Ac, Xc=GenerateSample(F[c],M[c],As)\n",
    "            SA.append(Ac)\n",
    "            SX.append(Xc)\n",
    "            SL.append(api_out_class(Xc,Ac))\n",
    "\n",
    "    AG_list=[dense_to_sparse(torch.tensor(a))[0] for a in SA]\n",
    "    XG=torch.vstack([torch.tensor(x) for x in SX])\n",
    "\n",
    "    SL=torch.tensor(SL,dtype=torch.long).view(-1)\n",
    "\n",
    "    # Filter out invalid labels (negative labels) and trim the labels to match the feature matrix size\n",
    "    valid_mask = SL >= 0\n",
    "    SL = SL[valid_mask]\n",
    "    SL = SL[:XG.shape[0]]\n",
    "\n",
    "    # Combine the edge indices of all subgraphs, adjusting the node indices to avoid overlap\n",
    "    AG_combined=torch.cat([edge_index+i*num_nodes for i, edge_index in enumerate (AG_list)], dim=1)\n",
    "\n",
    "    return XG, AG_combined, SL"
   ]
  },
  {
   "cell_type": "code",
   "execution_count": 480,
   "id": "5cbcadb8",
   "metadata": {},
   "outputs": [],
   "source": [
    "# Function to predict class labels for a graph using its feature matrix and adjacency matrix.\n",
    "def api_out_class(features, adjacency_matrix):\n",
    "    features_tensor=torch.tensor(features,dtype=torch.float)\n",
    "    adjacency_tensor=torch.tensor(adjacency_matrix,dtype=torch.long)\n",
    "\n",
    "    # If the adjacency matrix is in dense form, convert it to edge list format (sparse)\n",
    "    if adjacency_tensor.ndim==2 and adjacency_tensor.shape[0]==adjacency_tensor.shape[1]:\n",
    "        adjacency_tensor=torch.nonzero(adjacency_tensor, as_tuple=False).t()\n",
    "\n",
    "    with torch.no_grad():\n",
    "        logits=f(features_tensor, adjacency_tensor)\n",
    "        predictions = torch.argmax(logits, dim=1)\n",
    "\n",
    "    \n",
    "    return predictions.numpy()"
   ]
  },
  {
   "cell_type": "code",
   "execution_count": 481,
   "id": "b614d781",
   "metadata": {},
   "outputs": [],
   "source": [
    "# Function to compute and return the raw logits (class scores) for a graph using its feature matrix and adjacency matrix.\n",
    "def api_out_vector(features, adjacency_matrix):\n",
    "    features_tensor=torch.tensor(features,dtype=torch.float)\n",
    "    adjacency_tensor=torch.tensor(adjacency_matrix,dtype=torch.long)\n",
    "\n",
    "    # If the adjacency matrix is in dense form (square matrix), convert it to a sparse edge list format\n",
    "    if adjacency_tensor.ndim==2 and adjacency_tensor.shape[0]==adjacency_tensor.shape[1]:\n",
    "        adjacency_tensor=torch.nonzero(adjacency_tensor, as_tuple=False).t()\n",
    "        \n",
    "    with torch.no_grad():\n",
    "        logits=f(features_tensor, adjacency_tensor)\n",
    "\n",
    "    return logits.numpy()"
   ]
  },
  {
   "cell_type": "code",
   "execution_count": 482,
   "id": "2dce9fa5-45e3-465b-bd18-186cd3768b65",
   "metadata": {},
   "outputs": [],
   "source": [
    "# Function to evaluate a model and return predictions for nodes based on a mask.\n",
    "def api(model, data, mask):\n",
    "    model.eval()\n",
    "    out=model(data.x, data.edge_index)\n",
    "    pred=out[mask].argmax(dim=1)\n",
    "\n",
    "    return pred"
   ]
  },
  {
   "cell_type": "code",
   "execution_count": 483,
   "id": "684c7fc4-39e8-4716-8ab3-0a11a86fefdd",
   "metadata": {},
   "outputs": [],
   "source": [
    "# Function to evaluate how well the extracted model replicates the predictions of the victim model.\n",
    "def eval(victim_model, extracted_model,data, mask):\n",
    "    original_preds_labels=api(victim_model,data,mask)\n",
    "    extracted_preds_labels=api(extracted_model,data,mask)\n",
    "    score=accuracy_score(original_preds_labels, extracted_preds_labels)\n",
    "\n",
    "    return score"
   ]
  },
  {
   "cell_type": "code",
   "execution_count": 484,
   "id": "173373ed-11fc-4885-b13c-b4a751b0b48d",
   "metadata": {},
   "outputs": [],
   "source": [
    "# Function to evaluate the extraction model multiple times and return the average accuracy score.\n",
    "def get_f(victim_model,extraction_model,data,mask,times):\n",
    "    list_out=[]\n",
    "    for i in range(times):\n",
    "        pred=eval(victim_model,extraction_model,data,mask)\n",
    "        list_out.append(pred)\n",
    "    \n",
    "    return sum(list_out)/len(list_out)"
   ]
  },
  {
   "cell_type": "code",
   "execution_count": 485,
   "id": "ce8100c9",
   "metadata": {},
   "outputs": [],
   "source": [
    "# Function to find the index of the center node in the subgraph.\n",
    "def find_center_node_in_subgraph(center_global_idx, node_mapping):\n",
    "    center_subgraph_idx = node_mapping.tolist().index(center_global_idx)\n",
    "    return center_subgraph_idx"
   ]
  },
  {
   "cell_type": "code",
   "execution_count": 486,
   "id": "08190b49",
   "metadata": {},
   "outputs": [],
   "source": [
    "# Function to approximate new nodes in the graph Gc based on KL divergence between nodes and the center node.\n",
    "def approximate_nodes(Gc, api_out_vector, F, M, C, rho):\n",
    "    A,X=Gc\n",
    "    L=api_out_vector(X, A)\n",
    "    center_idx=find_center_node_in_subgraph(center_node,node_mapping)\n",
    "    \n",
    "    for node in range(A.shape[0]):\n",
    "        if node!=center_idx:\n",
    "            for c in range(C):\n",
    "                kl_div = np.exp(L[node][c]) * (L[node][c] - L[center_idx][c])\n",
    "                \n",
    "                if kl_div > 0:\n",
    "                    num_new_nodes = int(kl_div * rho * np.log1p(A[node].sum())) # TODO\n",
    "                    for _ in range(num_new_nodes):\n",
    "                        new_node = A.shape[0]\n",
    "                        \n",
    "                        new_adj_row = np.zeros((1, A.shape[1]))\n",
    "                        A = np.vstack([A, new_adj_row])\n",
    "                        \n",
    "                        new_adj_col = np.zeros((A.shape[0], 1))\n",
    "                        A = np.hstack([A, new_adj_col])\n",
    "                        \n",
    "                        A[node, new_node] = 1\n",
    "                        A[new_node, node] = 1\n",
    "                        \n",
    "                        feature_count = np.random.choice(len(M[c]), p=M[c])  \n",
    "                        new_features = np.zeros_like(F[c])\n",
    "                        chosen_features = np.random.choice(len(F[c]), size=feature_count, p=F[c])  \n",
    "                        new_features[chosen_features] = 1 \n",
    "                        \n",
    "                        X = np.vstack([X, new_features])\n",
    "    \n",
    "    Gc=(A,X)\n",
    "    return Gc"
   ]
  },
  {
   "cell_type": "code",
   "execution_count": 487,
   "id": "630a1c2d",
   "metadata": {},
   "outputs": [
    {
     "name": "stderr",
     "output_type": "stream",
     "text": [
      "/opt/anaconda3/envs/gnn/lib/python3.9/site-packages/torch_geometric/data/dataset.py:238: FutureWarning: You are using `torch.load` with `weights_only=False` (the current default value), which uses the default pickle module implicitly. It is possible to construct malicious pickle data which will execute arbitrary code during unpickling (See https://github.com/pytorch/pytorch/blob/main/SECURITY.md#untrusted-models for more details). In a future release, the default value for `weights_only` will be flipped to `True`. This limits the functions that could be executed during unpickling. Arbitrary objects will no longer be allowed to be loaded via this mode unless they are explicitly allowlisted by the user via `torch.serialization.add_safe_globals`. We recommend you start setting `weights_only=True` for any use case where you don't have full control of the loaded file. Please open an issue on GitHub for any issues related to this experimental feature.\n",
      "  if osp.exists(f) and torch.load(f) != _repr(self.pre_transform):\n",
      "/opt/anaconda3/envs/gnn/lib/python3.9/site-packages/torch_geometric/data/dataset.py:246: FutureWarning: You are using `torch.load` with `weights_only=False` (the current default value), which uses the default pickle module implicitly. It is possible to construct malicious pickle data which will execute arbitrary code during unpickling (See https://github.com/pytorch/pytorch/blob/main/SECURITY.md#untrusted-models for more details). In a future release, the default value for `weights_only` will be flipped to `True`. This limits the functions that could be executed during unpickling. Arbitrary objects will no longer be allowed to be loaded via this mode unless they are explicitly allowlisted by the user via `torch.serialization.add_safe_globals`. We recommend you start setting `weights_only=True` for any use case where you don't have full control of the loaded file. Please open an issue on GitHub for any issues related to this experimental feature.\n",
      "  if osp.exists(f) and torch.load(f) != _repr(self.pre_filter):\n",
      "/opt/anaconda3/envs/gnn/lib/python3.9/site-packages/torch_geometric/io/fs.py:215: FutureWarning: You are using `torch.load` with `weights_only=False` (the current default value), which uses the default pickle module implicitly. It is possible to construct malicious pickle data which will execute arbitrary code during unpickling (See https://github.com/pytorch/pytorch/blob/main/SECURITY.md#untrusted-models for more details). In a future release, the default value for `weights_only` will be flipped to `True`. This limits the functions that could be executed during unpickling. Arbitrary objects will no longer be allowed to be loaded via this mode unless they are explicitly allowlisted by the user via `torch.serialization.add_safe_globals`. We recommend you start setting `weights_only=True` for any use case where you don't have full control of the loaded file. Please open an issue on GitHub for any issues related to this experimental feature.\n",
      "  return torch.load(f, map_location)\n"
     ]
    }
   ],
   "source": [
    "dataset=load_dataset_PubMed()"
   ]
  },
  {
   "cell_type": "code",
   "execution_count": 488,
   "id": "52d66cb5",
   "metadata": {},
   "outputs": [],
   "source": [
    "data=dataset[0]"
   ]
  },
  {
   "cell_type": "code",
   "execution_count": 489,
   "id": "4e087e7b",
   "metadata": {},
   "outputs": [],
   "source": [
    "labels=data.y.numpy()"
   ]
  },
  {
   "cell_type": "code",
   "execution_count": 490,
   "id": "8583c08e",
   "metadata": {},
   "outputs": [],
   "source": [
    "num_classes=dataset.num_classes"
   ]
  },
  {
   "cell_type": "code",
   "execution_count": 491,
   "id": "5a697e59",
   "metadata": {},
   "outputs": [],
   "source": [
    "num_features=data.x.shape[1]"
   ]
  },
  {
   "cell_type": "code",
   "execution_count": 492,
   "id": "54d4c85b",
   "metadata": {},
   "outputs": [],
   "source": [
    "F,M=get_distribution(num_classes)"
   ]
  },
  {
   "cell_type": "code",
   "execution_count": 493,
   "id": "b8e2820e",
   "metadata": {},
   "outputs": [],
   "source": [
    "runturns=100"
   ]
  },
  {
   "cell_type": "code",
   "execution_count": 494,
   "id": "4ec4096e",
   "metadata": {},
   "outputs": [],
   "source": [
    "f=GCN_Victim(data.x.shape[1],dataset.num_classes)"
   ]
  },
  {
   "cell_type": "code",
   "execution_count": 495,
   "id": "57bb13d0-e87e-4c64-8ff6-801719957671",
   "metadata": {},
   "outputs": [
    {
     "name": "stdout",
     "output_type": "stream",
     "text": [
      "Epoch 10, Loss: 1.09910\n",
      "Epoch 20, Loss: 0.63681\n",
      "Epoch 30, Loss: 0.13503\n",
      "Epoch 40, Loss: 0.01758\n",
      "Epoch 50, Loss: 0.00479\n",
      "Epoch 60, Loss: 0.00709\n",
      "Epoch 70, Loss: 0.00985\n",
      "Epoch 80, Loss: 0.00707\n",
      "Epoch 90, Loss: 0.00484\n",
      "Epoch 100, Loss: 0.00413\n",
      "Epoch 110, Loss: 0.00389\n",
      "Epoch 120, Loss: 0.00350\n",
      "Epoch 130, Loss: 0.00340\n",
      "Epoch 140, Loss: 0.00328\n",
      "Epoch 150, Loss: 0.00317\n",
      "Epoch 160, Loss: 0.00307\n",
      "Epoch 170, Loss: 0.00305\n",
      "Epoch 180, Loss: 0.00301\n",
      "Epoch 190, Loss: 0.00306\n",
      "Epoch 200, Loss: 0.00299\n",
      "Epoch 210, Loss: 0.00313\n",
      "Epoch 220, Loss: 0.00275\n",
      "Epoch 230, Loss: 0.00295\n",
      "Epoch 240, Loss: 0.74381\n",
      "Epoch 250, Loss: 0.54549\n",
      "Epoch 260, Loss: 0.17659\n",
      "Epoch 270, Loss: 0.04379\n",
      "Epoch 280, Loss: 0.01047\n",
      "Epoch 290, Loss: 0.00495\n",
      "Epoch 300, Loss: 0.00341\n"
     ]
    }
   ],
   "source": [
    "train_Victim(f,data)"
   ]
  },
  {
   "cell_type": "code",
   "execution_count": 496,
   "id": "276c03f5",
   "metadata": {},
   "outputs": [],
   "source": [
    "As, Xs, center_node, node_mapping=get_2hop_subgraph(data)"
   ]
  },
  {
   "cell_type": "code",
   "execution_count": 497,
   "id": "4c18de33",
   "metadata": {},
   "outputs": [],
   "source": [
    "Gs=(As,Xs)"
   ]
  },
  {
   "cell_type": "code",
   "execution_count": 498,
   "id": "1fde608b-a09e-4640-a8d2-352dadcea63e",
   "metadata": {},
   "outputs": [
    {
     "name": "stdout",
     "output_type": "stream",
     "text": [
      "The index of the node is 17907\n"
     ]
    }
   ],
   "source": [
    "print(f\"The index of the node is {center_node}\")"
   ]
  },
  {
   "cell_type": "code",
   "execution_count": 499,
   "id": "01016b94-1bb2-4077-90a9-e933e00669be",
   "metadata": {},
   "outputs": [],
   "source": [
    "XG, AG, SL=SubgraphSamplingAlgorithm(Gs,F, M, n=10, C=dataset.num_classes)"
   ]
  },
  {
   "cell_type": "code",
   "execution_count": 500,
   "id": "1b7169d0-e811-4a91-bdf0-d78394dbd74f",
   "metadata": {},
   "outputs": [],
   "source": [
    "g=GCN_Extraction(XG.shape[1], dataset.num_classes)"
   ]
  },
  {
   "cell_type": "code",
   "execution_count": 501,
   "id": "e3c33d61-191a-4c43-ab13-6429fd65c87a",
   "metadata": {},
   "outputs": [
    {
     "name": "stdout",
     "output_type": "stream",
     "text": [
      "Epoch 10, Loss: 1.10024\n",
      "Epoch 20, Loss: 0.85853\n",
      "Epoch 30, Loss: 0.48853\n",
      "Epoch 40, Loss: 0.21327\n",
      "Epoch 50, Loss: 0.09546\n",
      "Epoch 60, Loss: 0.05684\n",
      "Epoch 70, Loss: 0.04568\n",
      "Epoch 80, Loss: 0.04340\n",
      "Epoch 90, Loss: 0.04294\n",
      "Epoch 100, Loss: 0.04163\n",
      "Epoch 110, Loss: 0.03937\n",
      "Epoch 120, Loss: 0.03687\n",
      "Epoch 130, Loss: 0.03465\n",
      "Epoch 140, Loss: 0.03284\n",
      "Epoch 150, Loss: 0.03135\n",
      "Epoch 160, Loss: 0.03007\n",
      "Epoch 170, Loss: 0.02890\n",
      "Epoch 180, Loss: 0.02784\n",
      "Epoch 190, Loss: 0.02689\n",
      "Epoch 200, Loss: 0.02603\n",
      "Epoch 210, Loss: 0.02525\n",
      "Epoch 220, Loss: 0.02453\n",
      "Epoch 230, Loss: 0.02387\n",
      "Epoch 240, Loss: 0.02327\n",
      "Epoch 250, Loss: 0.02271\n",
      "Epoch 260, Loss: 0.02220\n",
      "Epoch 270, Loss: 0.02172\n",
      "Epoch 280, Loss: 0.02127\n",
      "Epoch 290, Loss: 0.02085\n",
      "Epoch 300, Loss: 0.02046\n",
      "Epoch 310, Loss: 0.02010\n",
      "Epoch 320, Loss: 0.01975\n",
      "Epoch 330, Loss: 0.01942\n",
      "Epoch 340, Loss: 0.01912\n",
      "Epoch 350, Loss: 0.01884\n",
      "Epoch 360, Loss: 0.01856\n",
      "Epoch 370, Loss: 0.01831\n",
      "Epoch 380, Loss: 0.01807\n",
      "Epoch 390, Loss: 0.01784\n",
      "Epoch 400, Loss: 0.01763\n"
     ]
    }
   ],
   "source": [
    "train_Extraction(g,XG,AG,SL)"
   ]
  },
  {
   "cell_type": "code",
   "execution_count": 502,
   "id": "50fd26b9-00b1-40af-b1af-0e2a9355e54d",
   "metadata": {},
   "outputs": [
    {
     "name": "stdout",
     "output_type": "stream",
     "text": [
      "0.6940000000000011\n"
     ]
    }
   ],
   "source": [
    "print(get_f(f,g,data,data.val_mask,runturns))"
   ]
  },
  {
   "cell_type": "code",
   "execution_count": 503,
   "id": "18ab09a7-73ba-421d-8914-82219fd20e19",
   "metadata": {},
   "outputs": [],
   "source": [
    "# For Algorithm 2"
   ]
  },
  {
   "cell_type": "code",
   "execution_count": 504,
   "id": "3f21aab2-b4fe-4554-ae00-edf916102294",
   "metadata": {},
   "outputs": [],
   "source": [
    "Gs_with_approximated_nodes = approximate_nodes(Gs, api_out_vector, F, M, C=dataset.num_classes,rho=2)"
   ]
  },
  {
   "cell_type": "code",
   "execution_count": 505,
   "id": "31210e99-410f-4e0c-9118-747b408c906c",
   "metadata": {},
   "outputs": [
    {
     "name": "stdout",
     "output_type": "stream",
     "text": [
      "The size of tensors with algo1((24, 24), (24, 500))\n",
      "The size of tensors with algo2((24, 24), (24, 500))\n"
     ]
    }
   ],
   "source": [
    "print(f\"The size of tensors with algo1{Gs[0].shape,Gs[1].shape}\")\n",
    "print(f\"The size of tensors with algo2{Gs_with_approximated_nodes[0].shape,Gs_with_approximated_nodes[1].shape}\")"
   ]
  },
  {
   "cell_type": "code",
   "execution_count": 506,
   "id": "fbf7c6a3-ffc6-4a4e-94cf-2bbe15f7a6b6",
   "metadata": {},
   "outputs": [],
   "source": [
    "XG1, AG1, SL1=SubgraphSamplingAlgorithm(Gs_with_approximated_nodes,F, M, n=10, C=dataset.num_classes)"
   ]
  },
  {
   "cell_type": "code",
   "execution_count": 507,
   "id": "e3d14421-d273-4f81-8292-79023bbdaa5a",
   "metadata": {},
   "outputs": [],
   "source": [
    "g1=GCN_Extraction(XG1.shape[1], dataset.num_classes)"
   ]
  },
  {
   "cell_type": "code",
   "execution_count": 508,
   "id": "8b08199e-6de5-4593-9afd-534f9460e3bb",
   "metadata": {},
   "outputs": [
    {
     "name": "stdout",
     "output_type": "stream",
     "text": [
      "Epoch 10, Loss: 1.09922\n",
      "Epoch 20, Loss: 0.80643\n",
      "Epoch 30, Loss: 0.46236\n",
      "Epoch 40, Loss: 0.21117\n",
      "Epoch 50, Loss: 0.09623\n",
      "Epoch 60, Loss: 0.05660\n",
      "Epoch 70, Loss: 0.04386\n",
      "Epoch 80, Loss: 0.04056\n",
      "Epoch 90, Loss: 0.03990\n",
      "Epoch 100, Loss: 0.03889\n",
      "Epoch 110, Loss: 0.03703\n",
      "Epoch 120, Loss: 0.03481\n",
      "Epoch 130, Loss: 0.03269\n",
      "Epoch 140, Loss: 0.03089\n",
      "Epoch 150, Loss: 0.02944\n",
      "Epoch 160, Loss: 0.02820\n",
      "Epoch 170, Loss: 0.02708\n",
      "Epoch 180, Loss: 0.02609\n",
      "Epoch 190, Loss: 0.02517\n",
      "Epoch 200, Loss: 0.02435\n",
      "Epoch 210, Loss: 0.02359\n",
      "Epoch 220, Loss: 0.02292\n",
      "Epoch 230, Loss: 0.02228\n",
      "Epoch 240, Loss: 0.02171\n",
      "Epoch 250, Loss: 0.02116\n",
      "Epoch 260, Loss: 0.02070\n",
      "Epoch 270, Loss: 0.02025\n",
      "Epoch 280, Loss: 0.01984\n",
      "Epoch 290, Loss: 0.01943\n",
      "Epoch 300, Loss: 0.01905\n",
      "Epoch 310, Loss: 0.01872\n",
      "Epoch 320, Loss: 0.01841\n",
      "Epoch 330, Loss: 0.01811\n",
      "Epoch 340, Loss: 0.01783\n",
      "Epoch 350, Loss: 0.01757\n",
      "Epoch 360, Loss: 0.01732\n",
      "Epoch 370, Loss: 0.01709\n",
      "Epoch 380, Loss: 0.01687\n",
      "Epoch 390, Loss: 0.01666\n",
      "Epoch 400, Loss: 0.01647\n"
     ]
    }
   ],
   "source": [
    "train_Extraction(g1,XG1,AG1,SL1)"
   ]
  },
  {
   "cell_type": "code",
   "execution_count": 509,
   "id": "ab2407ae-8f0b-4c7f-8b29-505c20a9796d",
   "metadata": {},
   "outputs": [
    {
     "name": "stdout",
     "output_type": "stream",
     "text": [
      "0.6300000000000011\n"
     ]
    }
   ],
   "source": [
    "print(get_f(f,g1,data,data.val_mask,runturns))"
   ]
  },
  {
   "cell_type": "code",
   "execution_count": null,
   "id": "9820597c-0c7d-4cb8-ae22-39d7b89bf924",
   "metadata": {},
   "outputs": [],
   "source": []
  }
 ],
 "metadata": {
  "kernelspec": {
   "display_name": "Python 3 (ipykernel)",
   "language": "python",
   "name": "python3"
  },
  "language_info": {
   "codemirror_mode": {
    "name": "ipython",
    "version": 3
   },
   "file_extension": ".py",
   "mimetype": "text/x-python",
   "name": "python",
   "nbconvert_exporter": "python",
   "pygments_lexer": "ipython3",
   "version": "3.9.19"
  }
 },
 "nbformat": 4,
 "nbformat_minor": 5
}
