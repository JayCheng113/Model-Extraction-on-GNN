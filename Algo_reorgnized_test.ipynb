{
 "cells": [
  {
   "cell_type": "code",
   "execution_count": 1,
   "id": "3bd02f81",
   "metadata": {},
   "outputs": [
    {
     "name": "stderr",
     "output_type": "stream",
     "text": [
      "/opt/anaconda3/envs/gnn/lib/python3.9/site-packages/torch_geometric/typing.py:54: UserWarning: An issue occurred while importing 'pyg-lib'. Disabling its usage. Stacktrace: dlopen(/opt/anaconda3/envs/gnn/lib/python3.9/site-packages/libpyg.so, 0x0006): Library not loaded: /Library/Frameworks/Python.framework/Versions/3.9/Python\n",
      "  Referenced from: <2695749E-A917-3F14-B0DA-2A4914D2853D> /opt/anaconda3/envs/gnn/lib/python3.9/site-packages/libpyg.so\n",
      "  Reason: tried: '/Library/Frameworks/Python.framework/Versions/3.9/Python' (no such file), '/System/Volumes/Preboot/Cryptexes/OS/Library/Frameworks/Python.framework/Versions/3.9/Python' (no such file), '/Library/Frameworks/Python.framework/Versions/3.9/Python' (no such file)\n",
      "  warnings.warn(f\"An issue occurred while importing 'pyg-lib'. \"\n",
      "/opt/anaconda3/envs/gnn/lib/python3.9/site-packages/torch_geometric/typing.py:110: UserWarning: An issue occurred while importing 'torch-sparse'. Disabling its usage. Stacktrace: dlopen(/opt/anaconda3/envs/gnn/lib/python3.9/site-packages/libpyg.so, 0x0006): Library not loaded: /Library/Frameworks/Python.framework/Versions/3.9/Python\n",
      "  Referenced from: <2695749E-A917-3F14-B0DA-2A4914D2853D> /opt/anaconda3/envs/gnn/lib/python3.9/site-packages/libpyg.so\n",
      "  Reason: tried: '/Library/Frameworks/Python.framework/Versions/3.9/Python' (no such file), '/System/Volumes/Preboot/Cryptexes/OS/Library/Frameworks/Python.framework/Versions/3.9/Python' (no such file), '/Library/Frameworks/Python.framework/Versions/3.9/Python' (no such file)\n",
      "  warnings.warn(f\"An issue occurred while importing 'torch-sparse'. \"\n"
     ]
    }
   ],
   "source": [
    "import torch\n",
    "import numpy as np\n",
    "import torch.nn as nn\n",
    "import torch.optim as optim\n",
    "from torch_geometric.datasets import Planetoid\n",
    "from torch_geometric.utils import subgraph, k_hop_subgraph, dense_to_sparse\n",
    "from torch_geometric.nn import GCNConv\n",
    "from sklearn.metrics import accuracy_score\n",
    "import torch.nn.functional as FF\n",
    "import warnings"
   ]
  },
  {
   "cell_type": "code",
   "execution_count": 2,
   "id": "0accf326-811c-4b48-b1bb-817dd0a49ec8",
   "metadata": {},
   "outputs": [],
   "source": [
    "warnings.filterwarnings(\"ignore\", category=FutureWarning)"
   ]
  },
  {
   "cell_type": "code",
   "execution_count": 3,
   "id": "eb548356",
   "metadata": {},
   "outputs": [],
   "source": [
    "def load_dataset_Cora():\n",
    "    dataset=Planetoid(root='tmp/Cora', name='Cora')\n",
    "    return dataset"
   ]
  },
  {
   "cell_type": "code",
   "execution_count": 4,
   "id": "73fb4277-0b98-41b7-aff3-a9aa712431b1",
   "metadata": {},
   "outputs": [],
   "source": [
    "def load_dataset_PubMed():\n",
    "    dataset=Planetoid(root='tmp/PubMed', name='PubMed')\n",
    "    return dataset"
   ]
  },
  {
   "cell_type": "code",
   "execution_count": 5,
   "id": "8d288587",
   "metadata": {},
   "outputs": [],
   "source": [
    "class GCN_Extraction(nn.Module):\n",
    "    def __init__(self, num_features, num_classes):\n",
    "        super(GCN_Extraction,self).__init__()\n",
    "        self.conv1=GCNConv(num_features,16)\n",
    "        self.conv2=GCNConv(16, num_classes)\n",
    "        \n",
    "    def forward(self, x, edge_index):\n",
    "        x=self.conv1(x,edge_index)\n",
    "        x=torch.relu(x)\n",
    "        x=self.conv2(x,edge_index)\n",
    "        return torch.log_softmax(x, dim=1)"
   ]
  },
  {
   "cell_type": "code",
   "execution_count": 6,
   "id": "cb1ba4b4",
   "metadata": {},
   "outputs": [],
   "source": [
    "class GCN_Victim(nn.Module):\n",
    "    def __init__(self, num_features, num_classes):\n",
    "        super(GCN_Victim,self).__init__()\n",
    "        self.conv1=GCNConv(num_features,128)\n",
    "        self.conv2=GCNConv(128,64)\n",
    "        self.conv3=GCNConv(64, 16)\n",
    "        self.conv4=GCNConv(16,num_classes)\n",
    "\n",
    "    def forward(self, x, edge_index):\n",
    "        x=self.conv1(x,edge_index)\n",
    "        x=torch.relu(x)\n",
    "        x = self.conv2(x, edge_index)\n",
    "        x=torch.relu(x)\n",
    "        x=self.conv3(x,edge_index)\n",
    "        x=torch.relu(x)\n",
    "        x=self.conv4(x, edge_index)\n",
    "        return torch.log_softmax(x, dim=1)"
   ]
  },
  {
   "cell_type": "code",
   "execution_count": 40,
   "id": "45e6d58a-affb-495d-9c7b-f82a5477fc4b",
   "metadata": {},
   "outputs": [],
   "source": [
    "def train_Victim(model, data, epoches=400, lr=0.01, weight_decay=5e-4):\n",
    "    optimizer=optim.Adam(model.parameters(),lr=lr, weight_decay=weight_decay)\n",
    "    model.train()\n",
    "    \n",
    "    for epoch in range(epoches):\n",
    "        optimizer.zero_grad()\n",
    "        out=model(data.x, data.edge_index)\n",
    "        loss=FF.nll_loss(out[data.train_mask],data.y[data.train_mask])\n",
    "        loss.backward()\n",
    "        optimizer.step()\n",
    "        #if epoch % 10 ==0:\n",
    "            #print(f\"Epoch {epoch+10}, Loss: {loss.item():.5f}\")"
   ]
  },
  {
   "cell_type": "code",
   "execution_count": 41,
   "id": "7a685305-5155-4648-a210-4a8685239ad8",
   "metadata": {},
   "outputs": [],
   "source": [
    "def train_Extraction(model,features, adjacency_matrix, labels, epoches=500, lr=0.01, weight_decay=5e-4):\n",
    "    optimizer=optim.Adam(model.parameters(),lr=lr, weight_decay=weight_decay)\n",
    "    model.train()\n",
    "\n",
    "    patience_counter = 0\n",
    "    \n",
    "    for epoch in range(epoches):\n",
    "        optimizer.zero_grad()\n",
    "        out=model(features, adjacency_matrix)\n",
    "        loss=FF.nll_loss(out,labels)\n",
    "        loss.backward()\n",
    "        optimizer.step()\n",
    "            \n",
    "        #if epoch % 10 ==0:\n",
    "            #print(f\"Epoch {epoch+10}, Loss: {loss.item():.5f}\")"
   ]
  },
  {
   "cell_type": "code",
   "execution_count": 66,
   "id": "9bfc0b0b",
   "metadata": {},
   "outputs": [],
   "source": [
    "# Function to extract a 2-hop subgraph from a larger graph.\n",
    "# It samples a random node and retrieves its 2-hop neighborhood if its size is within the specified limits.\n",
    "def get_2hop_subgraph(data, min_size=10, max_size=150):\n",
    "    num_nodes=data.num_nodes\n",
    "\n",
    "    while True:\n",
    "        node_idx=torch.randint(0,num_nodes,(1,)).item()\n",
    "        \n",
    "        subset, edge_index,_,_=k_hop_subgraph(node_idx, 2, data.edge_index, relabel_nodes=True)\n",
    "\n",
    "        if min_size<=subset.size(0)<=max_size:\n",
    "            As=torch.zeros((subset.size(0),subset.size(0)))\n",
    "            As[edge_index[0],edge_index[1]]=1\n",
    "\n",
    "            Xs=data.x[subset]\n",
    "\n",
    "            # Return the adjacency matrix, features, index of the center node, the mapping relationship between the index and the node\n",
    "            return As.numpy(), Xs.numpy(), node_idx, subset"
   ]
  },
  {
   "cell_type": "code",
   "execution_count": 10,
   "id": "c8f3790e",
   "metadata": {},
   "outputs": [],
   "source": [
    "# Function to compute the prior distributions for both feature occurrence and feature count\n",
    "def get_distribution(data,labels,num_features,num_classes):\n",
    "    F=[] # List to store feature distribution for each class\n",
    "    M=[] # List to store feature count distribution for each class\n",
    "    \n",
    "    for c in range(num_classes):\n",
    "        class_nodes=data.x[labels==c]\n",
    "\n",
    "        feature_counts=class_nodes.sum(dim=0).numpy()\n",
    "        feature_distribution=feature_counts/feature_counts.sum()\n",
    "        F.append(feature_distribution)\n",
    "\n",
    "        num_features_per_node=class_nodes.sum(dim=1).numpy()\n",
    "        feature_count_distribution=np.bincount(num_features_per_node.astype(int),minlength=num_features)\n",
    "        M.append(feature_count_distribution/feature_count_distribution.sum())\n",
    "        \n",
    "    return F,M"
   ]
  },
  {
   "cell_type": "code",
   "execution_count": 11,
   "id": "848164c2",
   "metadata": {},
   "outputs": [],
   "source": [
    "# Function to generate a sample graph based on input feature (Fc) and count (Mc) distributions \n",
    "def GenerateSample(Fc, Mc, As):\n",
    "    num_nodes=As.shape[0]\n",
    "    Ac=torch.ones((num_nodes,num_nodes))\n",
    "    Xc=torch.zeros(num_nodes, len(Fc))\n",
    "\n",
    "    for i in range(num_nodes):\n",
    "        m=np.random.choice(np.arange(len(Mc)),p=Mc)\n",
    "        features=np.random.choice(len(Fc),size=m,replace=False,p=Fc)\n",
    "        Xc[i,features]=1\n",
    "\n",
    "    return Ac.numpy(), Xc.numpy()"
   ]
  },
  {
   "cell_type": "code",
   "execution_count": 12,
   "id": "ea30e7b6",
   "metadata": {},
   "outputs": [],
   "source": [
    "# Function to sample subgraphs and combine them into a larger graph\n",
    "def SubgraphSamplingAlgorithm(f,Gs,F, M, n, C):\n",
    "    As, Xs=Gs\n",
    "    num_nodes=As.shape[0]\n",
    "    SA=[As]\n",
    "    SX=[Xs]\n",
    "    SL=[api_out_class(f,Xs,As)]\n",
    "\n",
    "    for i in range(n):\n",
    "        # For each class, generate and store a new sampled subgraph\n",
    "        for c in range(C):\n",
    "            Ac, Xc=GenerateSample(F[c],M[c],As)\n",
    "            SA.append(Ac)\n",
    "            SX.append(Xc)\n",
    "            SL.append(api_out_class(f,Xc,Ac))\n",
    "\n",
    "    AG_list=[dense_to_sparse(torch.tensor(a))[0] for a in SA]\n",
    "    XG=torch.vstack([torch.tensor(x) for x in SX])\n",
    "\n",
    "    SL=torch.tensor(SL,dtype=torch.long).view(-1)\n",
    "\n",
    "    # Filter out invalid labels (negative labels) and trim the labels to match the feature matrix size\n",
    "    valid_mask = SL >= 0\n",
    "    SL = SL[valid_mask]\n",
    "    SL = SL[:XG.shape[0]]\n",
    "\n",
    "    # Combine the edge indices of all subgraphs, adjusting the node indices to avoid overlap\n",
    "    AG_combined=torch.cat([edge_index+i*num_nodes for i, edge_index in enumerate (AG_list)], dim=1)\n",
    "\n",
    "    return XG, AG_combined, SL"
   ]
  },
  {
   "cell_type": "code",
   "execution_count": 13,
   "id": "5cbcadb8",
   "metadata": {},
   "outputs": [],
   "source": [
    "# Function to predict class labels for a graph using its feature matrix and adjacency matrix.\n",
    "def api_out_class(f,features, adjacency_matrix):\n",
    "    features_tensor=torch.tensor(features,dtype=torch.float)\n",
    "    adjacency_tensor=torch.tensor(adjacency_matrix,dtype=torch.long)\n",
    "\n",
    "    # If the adjacency matrix is in dense form, convert it to edge list format (sparse)\n",
    "    if adjacency_tensor.ndim==2 and adjacency_tensor.shape[0]==adjacency_tensor.shape[1]:\n",
    "        adjacency_tensor=torch.nonzero(adjacency_tensor, as_tuple=False).t()\n",
    "\n",
    "    with torch.no_grad():\n",
    "        logits=f(features_tensor, adjacency_tensor)\n",
    "        predictions = torch.argmax(logits, dim=1)\n",
    "\n",
    "    \n",
    "    return predictions.numpy()"
   ]
  },
  {
   "cell_type": "code",
   "execution_count": 14,
   "id": "b614d781",
   "metadata": {},
   "outputs": [],
   "source": [
    "# Function to compute and return the raw logits (class scores) for a graph using its feature matrix and adjacency matrix.\n",
    "def api_out_vector(features, adjacency_matrix):\n",
    "    features_tensor=torch.tensor(features,dtype=torch.float)\n",
    "    adjacency_tensor=torch.tensor(adjacency_matrix,dtype=torch.long)\n",
    "\n",
    "    # If the adjacency matrix is in dense form (square matrix), convert it to a sparse edge list format\n",
    "    if adjacency_tensor.ndim==2 and adjacency_tensor.shape[0]==adjacency_tensor.shape[1]:\n",
    "        adjacency_tensor=torch.nonzero(adjacency_tensor, as_tuple=False).t()\n",
    "        \n",
    "    with torch.no_grad():\n",
    "        logits=f(features_tensor, adjacency_tensor)\n",
    "\n",
    "    return logits.numpy()"
   ]
  },
  {
   "cell_type": "code",
   "execution_count": 15,
   "id": "2dce9fa5-45e3-465b-bd18-186cd3768b65",
   "metadata": {},
   "outputs": [],
   "source": [
    "# Function to evaluate a model and return predictions for nodes based on a mask.\n",
    "def api(model, data, mask):\n",
    "    model.eval()\n",
    "    out=model(data.x, data.edge_index)\n",
    "    pred=out[mask].argmax(dim=1)\n",
    "\n",
    "    return pred"
   ]
  },
  {
   "cell_type": "code",
   "execution_count": 16,
   "id": "684c7fc4-39e8-4716-8ab3-0a11a86fefdd",
   "metadata": {},
   "outputs": [],
   "source": [
    "# Function to evaluate how well the extracted model replicates the predictions of the victim model.\n",
    "def eval(victim_model, extracted_model,data, mask):\n",
    "    original_preds_labels=api(victim_model,data,mask)\n",
    "    extracted_preds_labels=api(extracted_model,data,mask)\n",
    "    score=accuracy_score(original_preds_labels, extracted_preds_labels)\n",
    "\n",
    "    return score"
   ]
  },
  {
   "cell_type": "code",
   "execution_count": 30,
   "id": "173373ed-11fc-4885-b13c-b4a751b0b48d",
   "metadata": {},
   "outputs": [],
   "source": [
    "# Function to evaluate the extraction model multiple times and return the average accuracy score.\n",
    "def get_f(victim_model,extraction_model,data,mask,times=100):\n",
    "    list_out=[]\n",
    "    for i in range(times):\n",
    "        pred=eval(victim_model,extraction_model,data,mask)\n",
    "        list_out.append(pred)\n",
    "    \n",
    "    return sum(list_out)/len(list_out)"
   ]
  },
  {
   "cell_type": "code",
   "execution_count": 31,
   "id": "e8eb7168-d924-4af8-bc2f-e188301b47ac",
   "metadata": {},
   "outputs": [],
   "source": [
    "def setup_Victim(data,dataset):\n",
    "    f=GCN_Victim(data.x.shape[1],dataset.num_classes)\n",
    "    train_Victim(f,data)\n",
    "\n",
    "    return f"
   ]
  },
  {
   "cell_type": "code",
   "execution_count": 19,
   "id": "c30f2e0b-a02c-4ecc-8b5c-087bed72a471",
   "metadata": {},
   "outputs": [],
   "source": [
    "def extract(f,data,dataset,samples,F,M):\n",
    "    As, Xs, center_node, node_mapping=get_2hop_subgraph(data)\n",
    "    Gs=(As,Xs)\n",
    "    print(f\"The index of the node is {center_node}, the size of subgraph is {Gs[0].shape,Gs[1].shape}\")\n",
    "    XG, AG, SL=SubgraphSamplingAlgorithm(f,Gs,F, M, n=samples, C=dataset.num_classes)\n",
    "\n",
    "    g=GCN_Extraction(XG.shape[1], dataset.num_classes)\n",
    "    train_Extraction(g,XG,AG,SL)\n",
    "    fidelity=get_f(f,g,data,data.val_mask)\n",
    "    print(f\"The fidelity is {fidelity:.2f}\")"
   ]
  },
  {
   "cell_type": "code",
   "execution_count": 20,
   "id": "67479a78-7d96-45ce-924e-a775a439e81f",
   "metadata": {},
   "outputs": [],
   "source": [
    "def main_diffnodes(data,dataset,samples,F,M,extractTurns):\n",
    "    f=setup_Victim(data,dataset)\n",
    "    for i in range(extractTurns):\n",
    "        print(f\"For the {i+1}th extraction\")\n",
    "        extract(f,data,dataset,samples,F,M)"
   ]
  },
  {
   "cell_type": "code",
   "execution_count": 21,
   "id": "60a64127-095d-4ec7-88c3-812f00fc14d6",
   "metadata": {},
   "outputs": [],
   "source": [
    "def main_diffsamples(data,dataset,samples,F,M):\n",
    "    f=setup_Victim(data,dataset)\n",
    "    As, Xs, center_node, node_mapping=get_2hop_subgraph(data)\n",
    "    Gs=(As,Xs)\n",
    "    print(f\"The index of the node is {center_node}, the size of subgraph is {Gs[0].shape,Gs[1].shape}\")\n",
    "    for sample in samples:\n",
    "        XG, AG, SL=SubgraphSamplingAlgorithm(f,Gs,F, M, n=sample, C=dataset.num_classes)\n",
    "        print(f\"{sample} Samples per class\")\n",
    "        g=GCN_Extraction(XG.shape[1], dataset.num_classes)\n",
    "        train_Extraction(g,XG,AG,SL)\n",
    "        fidelity=get_f(f,g,data,data.val_mask)\n",
    "        print(f\"The fidelity is {fidelity:.2f}\")\n",
    "        "
   ]
  },
  {
   "cell_type": "code",
   "execution_count": 50,
   "id": "1eadd61f-df1b-4474-bdf6-97df6d1df5bd",
   "metadata": {},
   "outputs": [],
   "source": [
    "#we dont need to care about extractTurns when the run_type is 'diffsamples'\n",
    "def run_experiment(dataset_name,samples,extractTurns,run_type):\n",
    "    if dataset_name == 'PubMed':\n",
    "        dataset = load_dataset_PubMed()\n",
    "        print(\"running on PubMed\")\n",
    "    elif dataset_name == 'Cora':\n",
    "        dataset = load_dataset_Cora()\n",
    "        print(\"running on Cora\")\n",
    "    else:\n",
    "        raise ValueError(\"Invalid name, please use 'PubMed' or 'Cora'.\")\n",
    "\n",
    "    data=dataset[0]\n",
    "    labels=data.y.numpy()\n",
    "    num_classes=dataset.num_classes\n",
    "    num_features=data.x.shape[1]\n",
    "\n",
    "    F,M=get_distribution(data,labels,num_features,num_classes)\n",
    "    \n",
    "    if run_type == 'diffnodes' and isinstance(samples, int):\n",
    "        main_diffnodes(data,dataset,samples,F,M,extractTurns)  \n",
    "    elif run_type == 'diffsamples' and isinstance(samples, list):\n",
    "        main_diffsamples(data,dataset,samples,F,M)  \n",
    "    else:\n",
    "        raise ValueError(\"Invalid params.\")\n",
    "    "
   ]
  },
  {
   "cell_type": "code",
   "execution_count": null,
   "id": "512a23c3-35e7-41cf-ab4c-96e381552839",
   "metadata": {},
   "outputs": [],
   "source": [
    "run_experiment('PubMEd',10,10,'diffnodes')"
   ]
  },
  {
   "cell_type": "code",
   "execution_count": 65,
   "id": "bb9d956b-8c51-4dd2-a3e6-b6debfafa3dd",
   "metadata": {},
   "outputs": [
    {
     "name": "stdout",
     "output_type": "stream",
     "text": [
      "running Cora\n",
      "The index of the node is 1665, the size of subgraph is ((121, 121), (121, 1433))\n",
      "1 Samples per class\n",
      "The fidelity is 0.79\n",
      "3 Samples per class\n",
      "The fidelity is 0.81\n",
      "5 Samples per class\n",
      "The fidelity is 0.82\n",
      "10 Samples per class\n",
      "The fidelity is 0.83\n",
      "100 Samples per class\n",
      "The fidelity is 0.82\n"
     ]
    }
   ],
   "source": [
    "run_experiment('Cora',[1,3,5,10,100],10,'diffsamples')"
   ]
  },
  {
   "cell_type": "code",
   "execution_count": null,
   "id": "3faab0d0-77b2-4d82-b4a1-355ea163e4b0",
   "metadata": {},
   "outputs": [],
   "source": []
  },
  {
   "cell_type": "code",
   "execution_count": 55,
   "id": "18ab09a7-73ba-421d-8914-82219fd20e19",
   "metadata": {},
   "outputs": [],
   "source": [
    "# For Algorithm 2\n",
    "# TODO"
   ]
  },
  {
   "cell_type": "code",
   "execution_count": null,
   "id": "ce8100c9",
   "metadata": {},
   "outputs": [],
   "source": [
    "# Function to find the index of the center node in the subgraph.\n",
    "def find_center_node_in_subgraph(center_global_idx, node_mapping):\n",
    "    center_subgraph_idx = node_mapping.tolist().index(center_global_idx)\n",
    "    return center_subgraph_idx"
   ]
  },
  {
   "cell_type": "code",
   "execution_count": null,
   "id": "08190b49",
   "metadata": {},
   "outputs": [],
   "source": [
    "# Function to approximate new nodes in the graph Gc based on KL divergence between nodes and the center node.\n",
    "def approximate_nodes(Gc, api_out_vector, F, M, C, rho):\n",
    "    A,X=Gc\n",
    "    L=api_out_vector(X, A)\n",
    "    center_idx=find_center_node_in_subgraph(center_node,node_mapping)\n",
    "    \n",
    "    for node in range(A.shape[0]):\n",
    "        if node!=center_idx:\n",
    "            for c in range(C):\n",
    "                kl_div = np.exp(L[node][c]) * (L[node][c] - L[center_idx][c])\n",
    "                \n",
    "                if kl_div > 0:\n",
    "                    num_new_nodes = int(kl_div * rho * np.log1p(A[node].sum())) # TODO\n",
    "                    for _ in range(num_new_nodes):\n",
    "                        new_node = A.shape[0]\n",
    "                        \n",
    "                        new_adj_row = np.zeros((1, A.shape[1]))\n",
    "                        A = np.vstack([A, new_adj_row])\n",
    "                        \n",
    "                        new_adj_col = np.zeros((A.shape[0], 1))\n",
    "                        A = np.hstack([A, new_adj_col])\n",
    "                        \n",
    "                        A[node, new_node] = 1\n",
    "                        A[new_node, node] = 1\n",
    "                        \n",
    "                        feature_count = np.random.choice(len(M[c]), p=M[c])  \n",
    "                        new_features = np.zeros_like(F[c])\n",
    "                        chosen_features = np.random.choice(len(F[c]), size=feature_count, p=F[c])  \n",
    "                        new_features[chosen_features] = 1 \n",
    "                        \n",
    "                        X = np.vstack([X, new_features])\n",
    "    \n",
    "    Gc=(A,X)\n",
    "    return Gc"
   ]
  },
  {
   "cell_type": "code",
   "execution_count": null,
   "id": "3f21aab2-b4fe-4554-ae00-edf916102294",
   "metadata": {},
   "outputs": [],
   "source": [
    "Gs_with_approximated_nodes = approximate_nodes(Gs, api_out_vector, F, M, C=dataset.num_classes,rho=2)"
   ]
  },
  {
   "cell_type": "code",
   "execution_count": null,
   "id": "31210e99-410f-4e0c-9118-747b408c906c",
   "metadata": {},
   "outputs": [],
   "source": [
    "print(f\"The size of tensors with algo1{Gs[0].shape,Gs[1].shape}\")\n",
    "print(f\"The size of tensors with algo2{Gs_with_approximated_nodes[0].shape,Gs_with_approximated_nodes[1].shape}\")"
   ]
  },
  {
   "cell_type": "code",
   "execution_count": null,
   "id": "fbf7c6a3-ffc6-4a4e-94cf-2bbe15f7a6b6",
   "metadata": {},
   "outputs": [],
   "source": [
    "XG1, AG1, SL1=SubgraphSamplingAlgorithm(Gs_with_approximated_nodes,F, M, n=10, C=dataset.num_classes)"
   ]
  },
  {
   "cell_type": "code",
   "execution_count": null,
   "id": "e3d14421-d273-4f81-8292-79023bbdaa5a",
   "metadata": {},
   "outputs": [],
   "source": [
    "g1=GCN_Extraction(XG1.shape[1], dataset.num_classes)"
   ]
  },
  {
   "cell_type": "code",
   "execution_count": null,
   "id": "8b08199e-6de5-4593-9afd-534f9460e3bb",
   "metadata": {},
   "outputs": [],
   "source": [
    "train_Extraction(g1,XG1,AG1,SL1)"
   ]
  },
  {
   "cell_type": "code",
   "execution_count": null,
   "id": "ab2407ae-8f0b-4c7f-8b29-505c20a9796d",
   "metadata": {},
   "outputs": [],
   "source": [
    "print(get_f(f,g1,data,data.val_mask,runturns))"
   ]
  },
  {
   "cell_type": "code",
   "execution_count": null,
   "id": "9820597c-0c7d-4cb8-ae22-39d7b89bf924",
   "metadata": {},
   "outputs": [],
   "source": []
  }
 ],
 "metadata": {
  "kernelspec": {
   "display_name": "Python 3 (ipykernel)",
   "language": "python",
   "name": "python3"
  },
  "language_info": {
   "codemirror_mode": {
    "name": "ipython",
    "version": 3
   },
   "file_extension": ".py",
   "mimetype": "text/x-python",
   "name": "python",
   "nbconvert_exporter": "python",
   "pygments_lexer": "ipython3",
   "version": "3.9.19"
  }
 },
 "nbformat": 4,
 "nbformat_minor": 5
}
