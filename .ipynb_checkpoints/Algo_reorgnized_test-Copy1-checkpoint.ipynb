{
 "cells": [
  {
   "cell_type": "code",
   "execution_count": 613,
   "id": "3bd02f81",
   "metadata": {},
   "outputs": [],
   "source": [
    "import torch\n",
    "import numpy as np\n",
    "import torch.nn as nn\n",
    "import torch.optim as optim\n",
    "from torch_geometric.datasets import Planetoid\n",
    "from torch_geometric.utils import subgraph, k_hop_subgraph, dense_to_sparse\n",
    "from torch_geometric.nn import GCNConv\n",
    "from sklearn.metrics import accuracy_score\n",
    "import torch.nn.functional as FF"
   ]
  },
  {
   "cell_type": "code",
   "execution_count": 614,
   "id": "eb548356",
   "metadata": {},
   "outputs": [],
   "source": [
    "def load_dataset():\n",
    "    dataset=Planetoid(root='tmp/Cora', name='Cora')\n",
    "    return dataset"
   ]
  },
  {
   "cell_type": "code",
   "execution_count": 615,
   "id": "8d288587",
   "metadata": {},
   "outputs": [],
   "source": [
    "class GCN_Extraction(nn.Module):\n",
    "    def __init__(self, num_features, num_classes):\n",
    "        super(GCN_Extraction,self).__init__()\n",
    "        self.conv1=GCNConv(num_features,16)\n",
    "        self.conv2=GCNConv(16, num_classes)\n",
    "        \n",
    "    def forward(self, x, edge_index):\n",
    "        x=self.conv1(x,edge_index)\n",
    "        x=torch.relu(x)\n",
    "        x=self.conv2(x,edge_index)\n",
    "        return torch.log_softmax(x, dim=1)"
   ]
  },
  {
   "cell_type": "code",
   "execution_count": 616,
   "id": "cb1ba4b4",
   "metadata": {},
   "outputs": [],
   "source": [
    "class GCN_Victim(nn.Module):\n",
    "    def __init__(self, num_features, num_classes):\n",
    "        super(GCN_Victim,self).__init__()\n",
    "        self.conv1=GCNConv(num_features,128)\n",
    "        self.conv2=GCNConv(128,64)\n",
    "        self.conv3=GCNConv(64, 16)\n",
    "        self.conv4=GCNConv(16,num_classes)\n",
    "\n",
    "    def forward(self, x, edge_index):\n",
    "        x=self.conv1(x,edge_index)\n",
    "        x=torch.relu(x)\n",
    "        x = self.conv2(x, edge_index)\n",
    "        x=torch.relu(x)\n",
    "        x=self.conv3(x,edge_index)\n",
    "        x=torch.relu(x)\n",
    "        x=self.conv4(x, edge_index)\n",
    "        return torch.log_softmax(x, dim=1)"
   ]
  },
  {
   "cell_type": "code",
   "execution_count": 617,
   "id": "45e6d58a-affb-495d-9c7b-f82a5477fc4b",
   "metadata": {},
   "outputs": [],
   "source": [
    "def train_Victim(model, data, epoches=200, lr=0.01, weight_decay=5e-4):\n",
    "    optimizer=optim.Adam(model.parameters(),lr=lr, weight_decay=weight_decay)\n",
    "    model.train()\n",
    "    \n",
    "    for epoch in range(epoches):\n",
    "        optimizer.zero_grad()\n",
    "        out=model(data.x, data.edge_index)\n",
    "        loss=FF.nll_loss(out[data.train_mask],data.y[data.train_mask])\n",
    "        loss.backward()\n",
    "        optimizer.step()\n",
    "        if epoch % 10 ==0:\n",
    "            print(f\"Epoch {epoch+10}, Loss: {loss.item():.5f}\")"
   ]
  },
  {
   "cell_type": "code",
   "execution_count": 618,
   "id": "7a685305-5155-4648-a210-4a8685239ad8",
   "metadata": {},
   "outputs": [],
   "source": [
    "def train_Extraction(model,features, adjacency_matrix, labels, epoches=400, lr=0.01, weight_decay=5e-4):\n",
    "    optimizer=optim.Adam(model.parameters(),lr=lr, weight_decay=weight_decay)\n",
    "    model.train()\n",
    "\n",
    "    patience_counter = 0\n",
    "    \n",
    "    for epoch in range(epoches):\n",
    "        optimizer.zero_grad()\n",
    "        out=model(features, adjacency_matrix)\n",
    "        loss=FF.nll_loss(out,labels)\n",
    "        loss.backward()\n",
    "        optimizer.step()\n",
    "            \n",
    "        if epoch % 10 ==0:\n",
    "            print(f\"Epoch {epoch+10}, Loss: {loss.item():.5f}\")"
   ]
  },
  {
   "cell_type": "code",
   "execution_count": 619,
   "id": "9bfc0b0b",
   "metadata": {},
   "outputs": [],
   "source": [
    "def get_2hop_subgraph(data, min_size=10, max_size=150):\n",
    "    num_nodes=data.num_nodes\n",
    "\n",
    "    while True:\n",
    "        node_idx=torch.randint(0,num_nodes,(1,)).item()\n",
    "        subset, edge_index,_,_=k_hop_subgraph(node_idx, 2, data.edge_index, relabel_nodes=True)\n",
    "\n",
    "        if min_size<=subset.size(0)<=max_size:\n",
    "            As=torch.zeros((subset.size(0),subset.size(0)))\n",
    "            As[edge_index[0],edge_index[1]]=1\n",
    "\n",
    "            Xs=data.x[subset]\n",
    "\n",
    "            return As.numpy(), Xs.numpy(), node_idx, subset"
   ]
  },
  {
   "cell_type": "code",
   "execution_count": 620,
   "id": "c8f3790e",
   "metadata": {},
   "outputs": [],
   "source": [
    "def get_distribution(num_classes):\n",
    "    F=[]\n",
    "    M=[]\n",
    "    for c in range(num_classes):\n",
    "        class_nodes=data.x[labels==c]\n",
    "\n",
    "        feature_counts=class_nodes.sum(dim=0).numpy()\n",
    "        feature_distribution=feature_counts/feature_counts.sum()\n",
    "        F.append(feature_distribution)\n",
    "\n",
    "        num_features_per_node=class_nodes.sum(dim=1).numpy()\n",
    "        feature_count_distribution=np.bincount(num_features_per_node.astype(int),minlength=num_features)\n",
    "        M.append(feature_count_distribution/feature_count_distribution.sum())\n",
    "        \n",
    "    return F,M"
   ]
  },
  {
   "cell_type": "code",
   "execution_count": 621,
   "id": "848164c2",
   "metadata": {},
   "outputs": [],
   "source": [
    "def GenerateSample(Fc, Mc, As):\n",
    "    num_nodes=As.shape[0]\n",
    "    Ac=torch.ones((num_nodes,num_nodes))\n",
    "    Xc=torch.zeros(num_nodes, len(Fc))\n",
    "\n",
    "    for i in range(num_nodes):\n",
    "        m=np.random.choice(np.arange(len(Mc)),p=Mc)\n",
    "        features=np.random.choice(len(Fc),size=m,replace=False,p=Fc)\n",
    "        Xc[i,features]=1\n",
    "\n",
    "    return Ac.numpy(), Xc.numpy()"
   ]
  },
  {
   "cell_type": "code",
   "execution_count": 622,
   "id": "ea30e7b6",
   "metadata": {},
   "outputs": [],
   "source": [
    "def SubgraphSamplingAlgorithm(Gs,F, M, n, C):\n",
    "    As, Xs=Gs\n",
    "    num_nodes=As.shape[0]\n",
    "    SA=[As]\n",
    "    SX=[Xs]\n",
    "    SL=[api_out_class(Xs,As)]\n",
    "\n",
    "    for i in range(n):\n",
    "        for c in range(C):\n",
    "            Ac, Xc=GenerateSample(F[c],M[c],As)\n",
    "            SA.append(Ac)\n",
    "            SX.append(Xc)\n",
    "            SL.append(api_out_class(Xc,Ac))\n",
    "\n",
    "    AG_list=[dense_to_sparse(torch.tensor(a))[0] for a in SA]\n",
    "    XG=torch.vstack([torch.tensor(x) for x in SX])\n",
    "\n",
    "    SL=torch.tensor(SL,dtype=torch.long).view(-1)\n",
    "\n",
    "\n",
    "    valid_mask = SL >= 0\n",
    "    SL = SL[valid_mask]\n",
    "    SL = SL[:XG.shape[0]]\n",
    "\n",
    "    \n",
    "    AG_combined=torch.cat([edge_index+i*num_nodes for i, edge_index in enumerate (AG_list)], dim=1)\n",
    "\n",
    "    \n",
    "\n",
    "    return XG, AG_combined, SL"
   ]
  },
  {
   "cell_type": "code",
   "execution_count": 623,
   "id": "5cbcadb8",
   "metadata": {},
   "outputs": [],
   "source": [
    "def api_out_class(features, adjacency_matrix):\n",
    "    features_tensor=torch.tensor(features,dtype=torch.float)\n",
    "    adjacency_tensor=torch.tensor(adjacency_matrix,dtype=torch.long)\n",
    "\n",
    "    if adjacency_tensor.ndim==2 and adjacency_tensor.shape[0]==adjacency_tensor.shape[1]:\n",
    "        adjacency_tensor=torch.nonzero(adjacency_tensor, as_tuple=False).t()\n",
    "\n",
    "    with torch.no_grad():\n",
    "        logits=f(features_tensor, adjacency_tensor)\n",
    "        predictions = torch.argmax(logits, dim=1)\n",
    "\n",
    "    \n",
    "    return predictions.numpy()"
   ]
  },
  {
   "cell_type": "code",
   "execution_count": 624,
   "id": "b614d781",
   "metadata": {},
   "outputs": [],
   "source": [
    "def api_out_vector(features, adjacency_matrix):\n",
    "    features_tensor=torch.tensor(features,dtype=torch.float)\n",
    "    adjacency_tensor=torch.tensor(adjacency_matrix,dtype=torch.long)\n",
    "\n",
    "    if adjacency_tensor.ndim==2 and adjacency_tensor.shape[0]==adjacency_tensor.shape[1]:\n",
    "        adjacency_tensor=torch.nonzero(adjacency_tensor, as_tuple=False).t()\n",
    "        \n",
    "    with torch.no_grad():\n",
    "        logits=f(features_tensor, adjacency_tensor)\n",
    "\n",
    "    return logits.numpy()"
   ]
  },
  {
   "cell_type": "code",
   "execution_count": 625,
   "id": "2dce9fa5-45e3-465b-bd18-186cd3768b65",
   "metadata": {},
   "outputs": [],
   "source": [
    "def api(model, data, mask):\n",
    "    model.eval()\n",
    "    out=model(data.x, data.edge_index)\n",
    "    pred=out[mask].argmax(dim=1)\n",
    "\n",
    "    return pred"
   ]
  },
  {
   "cell_type": "code",
   "execution_count": 626,
   "id": "684c7fc4-39e8-4716-8ab3-0a11a86fefdd",
   "metadata": {},
   "outputs": [],
   "source": [
    "def eval(victim_model, extracted_model,data, mask):\n",
    "    original_preds_labels=api(victim_model,data,mask)\n",
    "    extracted_preds_labels=api(extracted_model,data,mask)\n",
    "    score=accuracy_score(original_preds_labels, extracted_preds_labels)\n",
    "\n",
    "    return score"
   ]
  },
  {
   "cell_type": "code",
   "execution_count": 627,
   "id": "173373ed-11fc-4885-b13c-b4a751b0b48d",
   "metadata": {},
   "outputs": [],
   "source": [
    "def get_f(victim_model,extraction_model,data,mask,times):\n",
    "    list_out=[]\n",
    "    for i in range(times):\n",
    "        pred=eval(victim_model,extraction_model,data,mask)\n",
    "        list_out.append(pred)\n",
    "    \n",
    "    return sum(list_out)/len(list_out)"
   ]
  },
  {
   "cell_type": "code",
   "execution_count": 628,
   "id": "ce8100c9",
   "metadata": {},
   "outputs": [],
   "source": [
    "def find_center_node_in_subgraph(center_global_idx, node_mapping):\n",
    "    center_subgraph_idx = node_mapping.tolist().index(center_global_idx)\n",
    "    return center_subgraph_idx"
   ]
  },
  {
   "cell_type": "code",
   "execution_count": 629,
   "id": "08190b49",
   "metadata": {},
   "outputs": [],
   "source": [
    "def approximate_nodes(Gc, api_out_vector, F, M, C, rho):\n",
    "    A,X=Gc\n",
    "    L=api_out_vector(X, A)\n",
    "    center_idx=find_center_node_in_subgraph(center_node,node_mapping)\n",
    "    \n",
    "    for node in range(A.shape[0]):\n",
    "        if node!=center_idx:\n",
    "            for c in range(C):\n",
    "                kl_div = np.exp(L[node][c]) * (L[node][c] - L[center_idx][c])\n",
    "                \n",
    "                if kl_div > 0:\n",
    "                    num_new_nodes = int(kl_div * rho * np.log1p(A[node].sum())) \n",
    "                    for _ in range(num_new_nodes):\n",
    "                        new_node = A.shape[0]\n",
    "                        \n",
    "                        new_adj_row = np.zeros((1, A.shape[1]))\n",
    "                        A = np.vstack([A, new_adj_row])\n",
    "                        \n",
    "                        new_adj_col = np.zeros((A.shape[0], 1))\n",
    "                        A = np.hstack([A, new_adj_col])\n",
    "                        \n",
    "                        A[node, new_node] = 1\n",
    "                        A[new_node, node] = 1\n",
    "                        \n",
    "                        feature_count = np.random.choice(len(M[c]), p=M[c])  \n",
    "                        new_features = np.zeros_like(F[c])\n",
    "                        chosen_features = np.random.choice(len(F[c]), size=feature_count, p=F[c])  \n",
    "                        new_features[chosen_features] = 1 \n",
    "                        \n",
    "                        X = np.vstack([X, new_features])\n",
    "    \n",
    "    Gc=(A,X)\n",
    "    return Gc"
   ]
  },
  {
   "cell_type": "code",
   "execution_count": 630,
   "id": "630a1c2d",
   "metadata": {},
   "outputs": [
    {
     "name": "stderr",
     "output_type": "stream",
     "text": [
      "/opt/anaconda3/envs/gnn/lib/python3.9/site-packages/torch_geometric/data/dataset.py:238: FutureWarning: You are using `torch.load` with `weights_only=False` (the current default value), which uses the default pickle module implicitly. It is possible to construct malicious pickle data which will execute arbitrary code during unpickling (See https://github.com/pytorch/pytorch/blob/main/SECURITY.md#untrusted-models for more details). In a future release, the default value for `weights_only` will be flipped to `True`. This limits the functions that could be executed during unpickling. Arbitrary objects will no longer be allowed to be loaded via this mode unless they are explicitly allowlisted by the user via `torch.serialization.add_safe_globals`. We recommend you start setting `weights_only=True` for any use case where you don't have full control of the loaded file. Please open an issue on GitHub for any issues related to this experimental feature.\n",
      "  if osp.exists(f) and torch.load(f) != _repr(self.pre_transform):\n",
      "/opt/anaconda3/envs/gnn/lib/python3.9/site-packages/torch_geometric/data/dataset.py:246: FutureWarning: You are using `torch.load` with `weights_only=False` (the current default value), which uses the default pickle module implicitly. It is possible to construct malicious pickle data which will execute arbitrary code during unpickling (See https://github.com/pytorch/pytorch/blob/main/SECURITY.md#untrusted-models for more details). In a future release, the default value for `weights_only` will be flipped to `True`. This limits the functions that could be executed during unpickling. Arbitrary objects will no longer be allowed to be loaded via this mode unless they are explicitly allowlisted by the user via `torch.serialization.add_safe_globals`. We recommend you start setting `weights_only=True` for any use case where you don't have full control of the loaded file. Please open an issue on GitHub for any issues related to this experimental feature.\n",
      "  if osp.exists(f) and torch.load(f) != _repr(self.pre_filter):\n",
      "/opt/anaconda3/envs/gnn/lib/python3.9/site-packages/torch_geometric/io/fs.py:215: FutureWarning: You are using `torch.load` with `weights_only=False` (the current default value), which uses the default pickle module implicitly. It is possible to construct malicious pickle data which will execute arbitrary code during unpickling (See https://github.com/pytorch/pytorch/blob/main/SECURITY.md#untrusted-models for more details). In a future release, the default value for `weights_only` will be flipped to `True`. This limits the functions that could be executed during unpickling. Arbitrary objects will no longer be allowed to be loaded via this mode unless they are explicitly allowlisted by the user via `torch.serialization.add_safe_globals`. We recommend you start setting `weights_only=True` for any use case where you don't have full control of the loaded file. Please open an issue on GitHub for any issues related to this experimental feature.\n",
      "  return torch.load(f, map_location)\n"
     ]
    }
   ],
   "source": [
    "dataset=load_dataset()"
   ]
  },
  {
   "cell_type": "code",
   "execution_count": 631,
   "id": "52d66cb5",
   "metadata": {},
   "outputs": [],
   "source": [
    "data=dataset[0]"
   ]
  },
  {
   "cell_type": "code",
   "execution_count": 632,
   "id": "4e087e7b",
   "metadata": {},
   "outputs": [],
   "source": [
    "labels=data.y.numpy()"
   ]
  },
  {
   "cell_type": "code",
   "execution_count": 633,
   "id": "8583c08e",
   "metadata": {},
   "outputs": [],
   "source": [
    "num_classes=dataset.num_classes"
   ]
  },
  {
   "cell_type": "code",
   "execution_count": 634,
   "id": "5a697e59",
   "metadata": {},
   "outputs": [],
   "source": [
    "num_features=data.x.shape[1]"
   ]
  },
  {
   "cell_type": "code",
   "execution_count": 635,
   "id": "54d4c85b",
   "metadata": {},
   "outputs": [],
   "source": [
    "F,M=get_distribution(num_classes)"
   ]
  },
  {
   "cell_type": "code",
   "execution_count": 636,
   "id": "b8e2820e",
   "metadata": {},
   "outputs": [],
   "source": [
    "runturns=100"
   ]
  },
  {
   "cell_type": "code",
   "execution_count": 637,
   "id": "4ec4096e",
   "metadata": {},
   "outputs": [],
   "source": [
    "f=GCN_Victim(data.x.shape[1],dataset.num_classes)"
   ]
  },
  {
   "cell_type": "code",
   "execution_count": 638,
   "id": "57bb13d0-e87e-4c64-8ff6-801719957671",
   "metadata": {},
   "outputs": [
    {
     "name": "stdout",
     "output_type": "stream",
     "text": [
      "Epoch 10, Loss: 1.94464\n",
      "Epoch 20, Loss: 0.07033\n",
      "Epoch 30, Loss: 0.00235\n",
      "Epoch 40, Loss: 0.00073\n",
      "Epoch 50, Loss: 0.00142\n",
      "Epoch 60, Loss: 0.00305\n",
      "Epoch 70, Loss: 0.00385\n",
      "Epoch 80, Loss: 0.00370\n",
      "Epoch 90, Loss: 0.00331\n",
      "Epoch 100, Loss: 0.00281\n",
      "Epoch 110, Loss: 0.00265\n",
      "Epoch 120, Loss: 0.00259\n",
      "Epoch 130, Loss: 0.00260\n",
      "Epoch 140, Loss: 0.00253\n",
      "Epoch 150, Loss: 0.00255\n",
      "Epoch 160, Loss: 0.00244\n",
      "Epoch 170, Loss: 0.00252\n",
      "Epoch 180, Loss: 0.00250\n",
      "Epoch 190, Loss: 0.00254\n",
      "Epoch 200, Loss: 2.58313\n"
     ]
    }
   ],
   "source": [
    "train_Victim(f,data)"
   ]
  },
  {
   "cell_type": "code",
   "execution_count": 639,
   "id": "276c03f5",
   "metadata": {},
   "outputs": [],
   "source": [
    "As, Xs, center_node, node_mapping=get_2hop_subgraph(data)"
   ]
  },
  {
   "cell_type": "code",
   "execution_count": 640,
   "id": "4c18de33",
   "metadata": {},
   "outputs": [],
   "source": [
    "Gs=(As,Xs)"
   ]
  },
  {
   "cell_type": "code",
   "execution_count": 641,
   "id": "1fde608b-a09e-4640-a8d2-352dadcea63e",
   "metadata": {},
   "outputs": [
    {
     "name": "stdout",
     "output_type": "stream",
     "text": [
      "The index of the node is 2136\n"
     ]
    }
   ],
   "source": [
    "print(f\"The index of the node is {center_node}\")"
   ]
  },
  {
   "cell_type": "code",
   "execution_count": 642,
   "id": "01016b94-1bb2-4077-90a9-e933e00669be",
   "metadata": {},
   "outputs": [],
   "source": [
    "XG, AG, SL=SubgraphSamplingAlgorithm(Gs,F, M, n=10, C=dataset.num_classes)"
   ]
  },
  {
   "cell_type": "code",
   "execution_count": 643,
   "id": "1b7169d0-e811-4a91-bdf0-d78394dbd74f",
   "metadata": {},
   "outputs": [],
   "source": [
    "g=GCN_Extraction(XG.shape[1], dataset.num_classes)"
   ]
  },
  {
   "cell_type": "code",
   "execution_count": 644,
   "id": "e3c33d61-191a-4c43-ab13-6429fd65c87a",
   "metadata": {},
   "outputs": [
    {
     "name": "stdout",
     "output_type": "stream",
     "text": [
      "Epoch 10, Loss: 1.92354\n",
      "Epoch 20, Loss: 0.33740\n",
      "Epoch 30, Loss: 0.04546\n",
      "Epoch 40, Loss: 0.01524\n",
      "Epoch 50, Loss: 0.00862\n",
      "Epoch 60, Loss: 0.00699\n",
      "Epoch 70, Loss: 0.00693\n",
      "Epoch 80, Loss: 0.00749\n",
      "Epoch 90, Loss: 0.00816\n",
      "Epoch 100, Loss: 0.00871\n",
      "Epoch 110, Loss: 0.00891\n",
      "Epoch 120, Loss: 0.00877\n",
      "Epoch 130, Loss: 0.00849\n",
      "Epoch 140, Loss: 0.00816\n",
      "Epoch 150, Loss: 0.00782\n",
      "Epoch 160, Loss: 0.00753\n",
      "Epoch 170, Loss: 0.00728\n",
      "Epoch 180, Loss: 0.00706\n",
      "Epoch 190, Loss: 0.00685\n",
      "Epoch 200, Loss: 0.00666\n",
      "Epoch 210, Loss: 0.00649\n",
      "Epoch 220, Loss: 0.00633\n",
      "Epoch 230, Loss: 0.00618\n",
      "Epoch 240, Loss: 0.00604\n",
      "Epoch 250, Loss: 0.00592\n",
      "Epoch 260, Loss: 0.00580\n",
      "Epoch 270, Loss: 0.00569\n",
      "Epoch 280, Loss: 0.00559\n",
      "Epoch 290, Loss: 0.00549\n",
      "Epoch 300, Loss: 0.00540\n",
      "Epoch 310, Loss: 0.00532\n",
      "Epoch 320, Loss: 0.00525\n",
      "Epoch 330, Loss: 0.00518\n",
      "Epoch 340, Loss: 0.00512\n",
      "Epoch 350, Loss: 0.00505\n",
      "Epoch 360, Loss: 0.00499\n",
      "Epoch 370, Loss: 0.00494\n",
      "Epoch 380, Loss: 0.00489\n",
      "Epoch 390, Loss: 0.00484\n",
      "Epoch 400, Loss: 0.00480\n"
     ]
    }
   ],
   "source": [
    "train_Extraction(g,XG,AG,SL)"
   ]
  },
  {
   "cell_type": "code",
   "execution_count": 645,
   "id": "50fd26b9-00b1-40af-b1af-0e2a9355e54d",
   "metadata": {},
   "outputs": [
    {
     "name": "stdout",
     "output_type": "stream",
     "text": [
      "0.6800000000000002\n"
     ]
    }
   ],
   "source": [
    "print(get_f(f,g,data,data.val_mask,runturns))"
   ]
  },
  {
   "cell_type": "code",
   "execution_count": 646,
   "id": "3f21aab2-b4fe-4554-ae00-edf916102294",
   "metadata": {},
   "outputs": [],
   "source": [
    "Gs_with_approximated_nodes = approximate_nodes(Gs, api_out_vector, F, M, C=dataset.num_classes,rho=2)"
   ]
  },
  {
   "cell_type": "code",
   "execution_count": 647,
   "id": "31210e99-410f-4e0c-9118-747b408c906c",
   "metadata": {},
   "outputs": [
    {
     "name": "stdout",
     "output_type": "stream",
     "text": [
      "The size of tensors with algo1((28, 28), (28, 1433))\n",
      "The size of tensors with algo2((77, 77), (77, 1433))\n"
     ]
    }
   ],
   "source": [
    "print(f\"The size of tensors with algo1{Gs[0].shape,Gs[1].shape}\")\n",
    "print(f\"The size of tensors with algo2{Gs_with_approximated_nodes[0].shape,Gs_with_approximated_nodes[1].shape}\")"
   ]
  },
  {
   "cell_type": "code",
   "execution_count": 648,
   "id": "fbf7c6a3-ffc6-4a4e-94cf-2bbe15f7a6b6",
   "metadata": {},
   "outputs": [],
   "source": [
    "XG1, AG1, SL1=SubgraphSamplingAlgorithm(Gs_with_approximated_nodes,F, M, n=10, C=dataset.num_classes)"
   ]
  },
  {
   "cell_type": "code",
   "execution_count": 649,
   "id": "e3d14421-d273-4f81-8292-79023bbdaa5a",
   "metadata": {},
   "outputs": [],
   "source": [
    "g1=GCN_Extraction(XG1.shape[1], dataset.num_classes)"
   ]
  },
  {
   "cell_type": "code",
   "execution_count": 650,
   "id": "8b08199e-6de5-4593-9afd-534f9460e3bb",
   "metadata": {},
   "outputs": [
    {
     "name": "stdout",
     "output_type": "stream",
     "text": [
      "Epoch 10, Loss: 1.93197\n",
      "Epoch 20, Loss: 0.59373\n",
      "Epoch 30, Loss: 0.17790\n",
      "Epoch 40, Loss: 0.06717\n",
      "Epoch 50, Loss: 0.03512\n",
      "Epoch 60, Loss: 0.02401\n",
      "Epoch 70, Loss: 0.02057\n",
      "Epoch 80, Loss: 0.01969\n",
      "Epoch 90, Loss: 0.01928\n",
      "Epoch 100, Loss: 0.01865\n",
      "Epoch 110, Loss: 0.01784\n",
      "Epoch 120, Loss: 0.01694\n",
      "Epoch 130, Loss: 0.01599\n",
      "Epoch 140, Loss: 0.01511\n",
      "Epoch 150, Loss: 0.01434\n",
      "Epoch 160, Loss: 0.01368\n",
      "Epoch 170, Loss: 0.01310\n",
      "Epoch 180, Loss: 0.01258\n",
      "Epoch 190, Loss: 0.01212\n",
      "Epoch 200, Loss: 0.01171\n",
      "Epoch 210, Loss: 0.01133\n",
      "Epoch 220, Loss: 0.01100\n",
      "Epoch 230, Loss: 0.01069\n",
      "Epoch 240, Loss: 0.01042\n",
      "Epoch 250, Loss: 0.01016\n",
      "Epoch 260, Loss: 0.00992\n",
      "Epoch 270, Loss: 0.00971\n",
      "Epoch 280, Loss: 0.00951\n",
      "Epoch 290, Loss: 0.00932\n",
      "Epoch 300, Loss: 0.00915\n",
      "Epoch 310, Loss: 0.00900\n",
      "Epoch 320, Loss: 0.00884\n",
      "Epoch 330, Loss: 0.00871\n",
      "Epoch 340, Loss: 0.00858\n",
      "Epoch 350, Loss: 0.00847\n",
      "Epoch 360, Loss: 0.00835\n",
      "Epoch 370, Loss: 0.00825\n",
      "Epoch 380, Loss: 0.00815\n",
      "Epoch 390, Loss: 0.00806\n",
      "Epoch 400, Loss: 0.00797\n"
     ]
    }
   ],
   "source": [
    "train_Extraction(g1,XG1,AG1,SL1)"
   ]
  },
  {
   "cell_type": "code",
   "execution_count": 651,
   "id": "ab2407ae-8f0b-4c7f-8b29-505c20a9796d",
   "metadata": {},
   "outputs": [
    {
     "name": "stdout",
     "output_type": "stream",
     "text": [
      "0.7239999999999991\n"
     ]
    }
   ],
   "source": [
    "print(get_f(f,g1,data,data.val_mask,runturns))"
   ]
  },
  {
   "cell_type": "code",
   "execution_count": null,
   "id": "9820597c-0c7d-4cb8-ae22-39d7b89bf924",
   "metadata": {},
   "outputs": [],
   "source": []
  }
 ],
 "metadata": {
  "kernelspec": {
   "display_name": "Python 3 (ipykernel)",
   "language": "python",
   "name": "python3"
  },
  "language_info": {
   "codemirror_mode": {
    "name": "ipython",
    "version": 3
   },
   "file_extension": ".py",
   "mimetype": "text/x-python",
   "name": "python",
   "nbconvert_exporter": "python",
   "pygments_lexer": "ipython3",
   "version": "3.9.19"
  }
 },
 "nbformat": 4,
 "nbformat_minor": 5
}
